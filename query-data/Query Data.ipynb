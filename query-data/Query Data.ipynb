{
 "cells": [
  {
   "cell_type": "markdown",
   "metadata": {},
   "source": [
    "## Query data : SQL, Hive, Pandas, MongoDB\n",
    "\n",
    "#### author : lhphong@tma"
   ]
  },
  {
   "cell_type": "markdown",
   "metadata": {},
   "source": [
    "### 1. Create database"
   ]
  },
  {
   "cell_type": "code",
   "execution_count": null,
   "metadata": {},
   "outputs": [],
   "source": [
    "# SQL\n",
    "CREATE SCHEMA IF NOT EXISTS 'name_database' DEFAULT CHARACTER SET utf8;\n",
    "USE 'name_database';\n",
    "\n",
    "# Hive\n",
    "CREATE SCHEMA IF NOT EXISTS 'name_database';\n",
    "USE 'name_database';\n",
    "\n",
    "# MongoDB\n",
    "use 'NAME_DATABASE';\n",
    "\n",
    "# Pandas\n",
    "df = pd.DataFrame({'name_table' : ['column 1', 'column 2', 'column 3']})"
   ]
  },
  {
   "cell_type": "markdown",
   "metadata": {},
   "source": [
    "### 2. Drop database"
   ]
  },
  {
   "cell_type": "code",
   "execution_count": null,
   "metadata": {},
   "outputs": [],
   "source": [
    "# SQL + Hive \n",
    "DROP 'name_database'\n",
    "\n",
    "# MongoDB\n",
    "use 'name_database'\n",
    "db.dropDatabase()"
   ]
  },
  {
   "cell_type": "markdown",
   "metadata": {},
   "source": [
    "### 3. SELECT, WHERE, DISTINCT, LIMIT"
   ]
  },
  {
   "cell_type": "code",
   "execution_count": 5,
   "metadata": {},
   "outputs": [
    {
     "ename": "SyntaxError",
     "evalue": "invalid syntax (<ipython-input-5-e41d67360378>, line 2)",
     "output_type": "error",
     "traceback": [
      "\u001b[1;36m  File \u001b[1;32m\"<ipython-input-5-e41d67360378>\"\u001b[1;36m, line \u001b[1;32m2\u001b[0m\n\u001b[1;33m    SELECT * FROM name_database\u001b[0m\n\u001b[1;37m                              ^\u001b[0m\n\u001b[1;31mSyntaxError\u001b[0m\u001b[1;31m:\u001b[0m invalid syntax\n"
     ]
    }
   ],
   "source": [
    "# SQL \n",
    "SELECT * FROM name_database\n",
    "SELECT id FROM name_database WHERE colum_name = 'keyword'\n",
    "SELECT DISTINCT column1, column2, ... FROM table_name;\n",
    "SELECT * FROM name_databse LIMIT 10\n",
    "\n",
    "# Hive\n",
    "\n",
    "# MongoDB\n",
    "\n",
    "# Pandas\n",
    "name_data\n",
    "name_data[name_data.column_name == 'keyword'].id\n",
    "name_data.colum1.unique()\n",
    "name_data.head(10)"
   ]
  },
  {
   "cell_type": "markdown",
   "metadata": {},
   "source": [
    "### 4. SELECT with multiple conditions"
   ]
  },
  {
   "cell_type": "code",
   "execution_count": 6,
   "metadata": {},
   "outputs": [
    {
     "ename": "SyntaxError",
     "evalue": "invalid syntax (<ipython-input-6-d809e8a52188>, line 2)",
     "output_type": "error",
     "traceback": [
      "\u001b[1;36m  File \u001b[1;32m\"<ipython-input-6-d809e8a52188>\"\u001b[1;36m, line \u001b[1;32m2\u001b[0m\n\u001b[1;33m    SELECT * FROM name_database WHERE name = 'key' and value = 'var'\u001b[0m\n\u001b[1;37m                              ^\u001b[0m\n\u001b[1;31mSyntaxError\u001b[0m\u001b[1;31m:\u001b[0m invalid syntax\n"
     ]
    }
   ],
   "source": [
    "# SQL\n",
    "SELECT * FROM name_database WHERE name = 'key' and value = 'var'\n",
    "SELECT id, name, value FROM name_database WHERE name = 'key' and value = 'var'\n",
    "\n",
    "# Hive\n",
    "\n",
    "# MongoDB\n",
    "\n",
    "# Pandas\n",
    "name_data[(name_data.name == 'key') & (name_data.value)]\n",
    "name_data[(name_data.name == 'key') & (name_data.value)].[['id', 'name', 'value']]"
   ]
  },
  {
   "cell_type": "markdown",
   "metadata": {},
   "source": [
    "## 5. ORDER BY"
   ]
  },
  {
   "cell_type": "code",
   "execution_count": 7,
   "metadata": {},
   "outputs": [
    {
     "ename": "SyntaxError",
     "evalue": "invalid syntax (<ipython-input-7-722eb6be6603>, line 2)",
     "output_type": "error",
     "traceback": [
      "\u001b[1;36m  File \u001b[1;32m\"<ipython-input-7-722eb6be6603>\"\u001b[1;36m, line \u001b[1;32m2\u001b[0m\n\u001b[1;33m    SELECT * FROM name_data where airport_ident = 'KLAX' order by type\u001b[0m\n\u001b[1;37m                          ^\u001b[0m\n\u001b[1;31mSyntaxError\u001b[0m\u001b[1;31m:\u001b[0m invalid syntax\n"
     ]
    }
   ],
   "source": [
    "# SQL\n",
    "SELECT * FROM name_data where airport_ident = 'KLAX' order by type\n",
    "SELECT * FROM name_data where airport_ident = 'KLAX' order by type desc\n",
    "\n",
    "# Pandas\n",
    "name_data[name_data.airport_ident == 'KLAX'].sort_values('type')\n",
    "name_data[name_data.airport_ident == 'KLAX'].sort_values('type', ascending=False)"
   ]
  },
  {
   "cell_type": "markdown",
   "metadata": {},
   "source": [
    "## 6. IN… NOT IN"
   ]
  },
  {
   "cell_type": "code",
   "execution_count": 8,
   "metadata": {},
   "outputs": [
    {
     "ename": "SyntaxError",
     "evalue": "invalid syntax (<ipython-input-8-7a986320954d>, line 2)",
     "output_type": "error",
     "traceback": [
      "\u001b[1;36m  File \u001b[1;32m\"<ipython-input-8-7a986320954d>\"\u001b[1;36m, line \u001b[1;32m2\u001b[0m\n\u001b[1;33m    select * from airports where type in ('heliport', 'balloonport')\u001b[0m\n\u001b[1;37m                ^\u001b[0m\n\u001b[1;31mSyntaxError\u001b[0m\u001b[1;31m:\u001b[0m invalid syntax\n"
     ]
    }
   ],
   "source": [
    "# SQL\n",
    "select * from airports where type in ('heliport', 'balloonport')\n",
    "select * from airports where type not in ('heliport', 'balloonport')\n",
    "\n",
    "# Pandas\n",
    "airports[airports.type.isin(['heliport', 'balloonport'])]\n",
    "airports[~airports.type.isin(['heliport', 'balloonport'])]"
   ]
  },
  {
   "cell_type": "markdown",
   "metadata": {},
   "source": [
    "## 7. GROUP BY, COUNT, ORDER BY"
   ]
  },
  {
   "cell_type": "code",
   "execution_count": 9,
   "metadata": {},
   "outputs": [
    {
     "ename": "SyntaxError",
     "evalue": "invalid syntax (<ipython-input-9-6ae50fe1dff8>, line 2)",
     "output_type": "error",
     "traceback": [
      "\u001b[1;36m  File \u001b[1;32m\"<ipython-input-9-6ae50fe1dff8>\"\u001b[1;36m, line \u001b[1;32m2\u001b[0m\n\u001b[1;33m    select iso_country, type, count(*) from airports group by iso_country, type order by iso_country, type\u001b[0m\n\u001b[1;37m                     ^\u001b[0m\n\u001b[1;31mSyntaxError\u001b[0m\u001b[1;31m:\u001b[0m invalid syntax\n"
     ]
    }
   ],
   "source": [
    "# SQL\n",
    "select iso_country, type, count(*) from airports group by iso_country, type order by iso_country, type\n",
    "select iso_country, type, count(*) from airports group by iso_country, type order by iso_country, count(*) desc\n",
    "\n",
    "select iso_country, type, count(*) from airports group by iso_country, type order by iso_country, type\n",
    "select iso_country, type, count(*) from airports group by iso_country, type order by iso_country, count(*) desc\n",
    "\n",
    "# Pandas\n",
    "airports.groupby(['iso_country', 'type']).size()\n",
    "airports.groupby(['iso_country', 'type']).size().to_frame('size').reset_index().sort_values(['iso_country', 'size'], ascending=[True, False])\n",
    "\n",
    "airports.groupby(['iso_country', 'type']).size()\n",
    "airports.groupby(['iso_country', 'type']).size().to_frame('size').reset_index().sort_values(['iso_country', 'size'], ascending=[True, False])"
   ]
  },
  {
   "cell_type": "markdown",
   "metadata": {},
   "source": [
    "## 8. HAVING"
   ]
  },
  {
   "cell_type": "code",
   "execution_count": 11,
   "metadata": {},
   "outputs": [
    {
     "ename": "SyntaxError",
     "evalue": "invalid syntax (<ipython-input-11-39ed7b90e85f>, line 2)",
     "output_type": "error",
     "traceback": [
      "\u001b[1;36m  File \u001b[1;32m\"<ipython-input-11-39ed7b90e85f>\"\u001b[1;36m, line \u001b[1;32m2\u001b[0m\n\u001b[1;33m    select type, count(*) from airports where iso_country = 'US' group by type having count(*) > 1000 order by count(*) desc\u001b[0m\n\u001b[1;37m              ^\u001b[0m\n\u001b[1;31mSyntaxError\u001b[0m\u001b[1;31m:\u001b[0m invalid syntax\n"
     ]
    }
   ],
   "source": [
    "# SQL\n",
    "select type, count(*) from airports where iso_country = 'US' group by type having count(*) > 1000 order by count(*) desc\n",
    "\n",
    "# Pandas\n",
    "airports[airports.iso_country == 'US'].groupby('type').filter(lambda g: len(g) > 1000).groupby('type').size().sort_values(ascending=False)"
   ]
  },
  {
   "cell_type": "markdown",
   "metadata": {},
   "source": [
    "## 9. Top N records"
   ]
  },
  {
   "cell_type": "code",
   "execution_count": 13,
   "metadata": {},
   "outputs": [
    {
     "ename": "SyntaxError",
     "evalue": "invalid syntax (<ipython-input-13-c9ec87d165cf>, line 2)",
     "output_type": "error",
     "traceback": [
      "\u001b[1;36m  File \u001b[1;32m\"<ipython-input-13-c9ec87d165cf>\"\u001b[1;36m, line \u001b[1;32m2\u001b[0m\n\u001b[1;33m    select iso_country from by_country order by size desc limit 10\u001b[0m\n\u001b[1;37m                     ^\u001b[0m\n\u001b[1;31mSyntaxError\u001b[0m\u001b[1;31m:\u001b[0m invalid syntax\n"
     ]
    }
   ],
   "source": [
    "# SQL\n",
    "select iso_country from by_country order by size desc limit 10\n",
    "select iso_country from by_country order by size desc limit 10 offset 10\n",
    "\n",
    "# Pandas\n",
    "by_country.nlargest(10, columns='airport_count')\n",
    "by_country.nlargest(10, columns='airport_count')"
   ]
  },
  {
   "cell_type": "markdown",
   "metadata": {},
   "source": [
    "## 10. Aggregate functions (MIN, MAX, MEAN)"
   ]
  },
  {
   "cell_type": "code",
   "execution_count": 15,
   "metadata": {},
   "outputs": [
    {
     "ename": "SyntaxError",
     "evalue": "invalid syntax (<ipython-input-15-177e08a9615e>, line 2)",
     "output_type": "error",
     "traceback": [
      "\u001b[1;36m  File \u001b[1;32m\"<ipython-input-15-177e08a9615e>\"\u001b[1;36m, line \u001b[1;32m2\u001b[0m\n\u001b[1;33m    select max(length_ft), min(length_ft), mean(length_ft), median(length_ft) from runways\u001b[0m\n\u001b[1;37m             ^\u001b[0m\n\u001b[1;31mSyntaxError\u001b[0m\u001b[1;31m:\u001b[0m invalid syntax\n"
     ]
    }
   ],
   "source": [
    "# SQL\n",
    "select max(length_ft), min(length_ft), mean(length_ft), median(length_ft) from runways\n",
    "\n",
    "# Pandas\n",
    "runways.agg({'length_ft': ['min', 'max', 'mean', 'median']})"
   ]
  },
  {
   "cell_type": "markdown",
   "metadata": {},
   "source": [
    "## 11. JOIN"
   ]
  },
  {
   "cell_type": "code",
   "execution_count": 17,
   "metadata": {},
   "outputs": [
    {
     "ename": "SyntaxError",
     "evalue": "invalid syntax (<ipython-input-17-099c871ef96b>, line 2)",
     "output_type": "error",
     "traceback": [
      "\u001b[1;36m  File \u001b[1;32m\"<ipython-input-17-099c871ef96b>\"\u001b[1;36m, line \u001b[1;32m2\u001b[0m\n\u001b[1;33m    select airport_ident, type, description, frequency_mhz\u001b[0m\n\u001b[1;37m                       ^\u001b[0m\n\u001b[1;31mSyntaxError\u001b[0m\u001b[1;31m:\u001b[0m invalid syntax\n"
     ]
    }
   ],
   "source": [
    "# SQL\n",
    "select airport_ident, type, description, frequency_mhz \n",
    "from airport_freq join airports on airport_freq.airport_ref = airports.id \n",
    "where airports.ident = 'KLAX'\n",
    "\n",
    "# Pandas\n",
    "airport_freq.merge(airports[airports.ident == 'KLAX'][['id']], left_on='airport_ref', right_on='id', how='inner')[['airport_ident', 'type', 'description', 'frequency_mhz']]"
   ]
  },
  {
   "cell_type": "markdown",
   "metadata": {},
   "source": [
    "## 12. UNION ALL and UNION"
   ]
  },
  {
   "cell_type": "code",
   "execution_count": 18,
   "metadata": {},
   "outputs": [
    {
     "ename": "SyntaxError",
     "evalue": "invalid syntax (<ipython-input-18-b82fa02b0f73>, line 2)",
     "output_type": "error",
     "traceback": [
      "\u001b[1;36m  File \u001b[1;32m\"<ipython-input-18-b82fa02b0f73>\"\u001b[1;36m, line \u001b[1;32m2\u001b[0m\n\u001b[1;33m    select name, municipality from airports where ident = 'KLAX'\u001b[0m\n\u001b[1;37m              ^\u001b[0m\n\u001b[1;31mSyntaxError\u001b[0m\u001b[1;31m:\u001b[0m invalid syntax\n"
     ]
    }
   ],
   "source": [
    "# SQL\n",
    "select name, municipality from airports where ident = 'KLAX' \n",
    "union all select name, municipality from airports where ident = 'KLGB'\n",
    "\n",
    "# Pandas\n",
    "pd.concat([airports[airports.ident == 'KLAX'][['name', 'municipality']], \n",
    "           airports[airports.ident == 'KLGB'][['name', 'municipality']]])"
   ]
  },
  {
   "cell_type": "markdown",
   "metadata": {},
   "source": [
    "## 13. INSERT"
   ]
  },
  {
   "cell_type": "code",
   "execution_count": 20,
   "metadata": {},
   "outputs": [
    {
     "ename": "SyntaxError",
     "evalue": "invalid syntax (<ipython-input-20-6c4e9587e5f0>, line 2)",
     "output_type": "error",
     "traceback": [
      "\u001b[1;36m  File \u001b[1;32m\"<ipython-input-20-6c4e9587e5f0>\"\u001b[1;36m, line \u001b[1;32m2\u001b[0m\n\u001b[1;33m    create table heroes (id integer, name text);\u001b[0m\n\u001b[1;37m               ^\u001b[0m\n\u001b[1;31mSyntaxError\u001b[0m\u001b[1;31m:\u001b[0m invalid syntax\n"
     ]
    }
   ],
   "source": [
    "# SQL\n",
    "create table heroes (id integer, name text);\n",
    "insert into heroes values (1, 'Harry Potter');\n",
    "insert into heroes values (2, 'Ron Weasley');\n",
    "insert into heroes values (3, 'Hermione Granger');\n",
    "\n",
    "# Hive\n",
    "CREATE EXTERNAL TABLE offers (\n",
    "    offerid INT,\n",
    "    category INT,\n",
    "    quantity INT,\n",
    "    company INT,\n",
    "    offervalue DOUBLE,\n",
    "    brand INT\n",
    ");\n",
    "ROW FORMAT DELIMITED FIELDS TERMINATED BY ','\n",
    "STORED AS TEXTFILE\n",
    "tblproperties(\"skip.header.line.count\"=\"1\"); \n",
    "\n",
    "# Pandas\n",
    "df1 = pd.DataFrame({'id': [1, 2], 'name': ['Harry Potter', 'Ron Weasley']})\n",
    "df2 = pd.DataFrame({'id': [3], 'name': ['Hermione Granger']})\n",
    "...\n",
    "pd.concat([df1, df2]).reset_index(drop=True)"
   ]
  },
  {
   "cell_type": "markdown",
   "metadata": {},
   "source": [
    "## 14. UPDATE"
   ]
  },
  {
   "cell_type": "code",
   "execution_count": 21,
   "metadata": {},
   "outputs": [
    {
     "ename": "SyntaxError",
     "evalue": "invalid syntax (<ipython-input-21-890cc429c115>, line 2)",
     "output_type": "error",
     "traceback": [
      "\u001b[1;36m  File \u001b[1;32m\"<ipython-input-21-890cc429c115>\"\u001b[1;36m, line \u001b[1;32m2\u001b[0m\n\u001b[1;33m    update airports set home_link = 'http://www.lawa.org/welcomelax.aspx' where ident == 'KLAX'\u001b[0m\n\u001b[1;37m                  ^\u001b[0m\n\u001b[1;31mSyntaxError\u001b[0m\u001b[1;31m:\u001b[0m invalid syntax\n"
     ]
    }
   ],
   "source": [
    "# SQL \n",
    "update airports set home_link = 'http://www.lawa.org/welcomelax.aspx' where ident == 'KLAX'\n",
    "\n",
    "# Pandas\n",
    "airports.loc[airports['ident'] == 'KLAX', 'home_link'] = 'http://www.lawa.org/welcomelax.aspx'\n"
   ]
  },
  {
   "cell_type": "markdown",
   "metadata": {},
   "source": [
    "## 15. DELETE"
   ]
  },
  {
   "cell_type": "code",
   "execution_count": 22,
   "metadata": {},
   "outputs": [
    {
     "ename": "SyntaxError",
     "evalue": "invalid syntax (<ipython-input-22-19a4d328f639>, line 2)",
     "output_type": "error",
     "traceback": [
      "\u001b[1;36m  File \u001b[1;32m\"<ipython-input-22-19a4d328f639>\"\u001b[1;36m, line \u001b[1;32m2\u001b[0m\n\u001b[1;33m    delete from lax_freq where type = 'MISC'\u001b[0m\n\u001b[1;37m              ^\u001b[0m\n\u001b[1;31mSyntaxError\u001b[0m\u001b[1;31m:\u001b[0m invalid syntax\n"
     ]
    }
   ],
   "source": [
    "# SQL\n",
    "delete from lax_freq where type = 'MISC'\n",
    "\n",
    "# Pandas\n",
    "lax_freq = lax_freq[lax_freq.type != 'MISC']\n",
    "lax_freq.drop(lax_freq[lax_freq.type == 'MISC'].index)"
   ]
  },
  {
   "cell_type": "markdown",
   "metadata": {},
   "source": [
    "## 16. And more!"
   ]
  },
  {
   "cell_type": "code",
   "execution_count": null,
   "metadata": {},
   "outputs": [],
   "source": [
    "# Pandas add new column \n",
    "df['total_cost'] = df['price'] * df['quantity']\n",
    "\n",
    "# Pandas to...\n",
    "df.to_csv(...)  # csv file\n",
    "df.to_hdf(...)  # HDF5 file\n",
    "df.to_pickle(...)  # serialized object\n",
    "df.to_sql(...)  # to SQL database\n",
    "df.to_excel(...)  # to Excel sheet\n",
    "df.to_json(...)  # to JSON string\n",
    "df.to_html(...)  # render as HTML table\n",
    "df.to_feather(...)  # binary feather-format\n",
    "df.to_latex(...)  # tabular environment table\n",
    "df.to_stata(...)  # Stata binary data files\n",
    "df.to_msgpack(...)\t# msgpack (serialize) object\n",
    "df.to_gbq(...)  # to a Google BigQuery table.\n",
    "df.to_string(...)  # console-friendly tabular output.\n",
    "df.to_clipboard(...) # clipboard that can be pasted into Excel\n",
    "\n",
    "# Pandas plot it\n",
    "top_10.plot(\n",
    "    x='iso_country', \n",
    "    y='airport_count',\n",
    "    kind='barh',\n",
    "    figsize=(10, 7),\n",
    "    title='Top 10 countries with most airports')\n",
    "\n"
   ]
  }
 ],
 "metadata": {
  "kernelspec": {
   "display_name": "Python 3",
   "language": "python",
   "name": "python3"
  },
  "language_info": {
   "codemirror_mode": {
    "name": "ipython",
    "version": 3
   },
   "file_extension": ".py",
   "mimetype": "text/x-python",
   "name": "python",
   "nbconvert_exporter": "python",
   "pygments_lexer": "ipython3",
   "version": "3.7.3"
  }
 },
 "nbformat": 4,
 "nbformat_minor": 2
}
