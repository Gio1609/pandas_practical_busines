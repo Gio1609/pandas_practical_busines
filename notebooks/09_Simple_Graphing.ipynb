{
 "cells": [
  {
   "cell_type": "markdown",
   "metadata": {},
   "source": [
    "This (article] [http://pbpython.com/simple-graphing-pandas.html] will walk through how to start doing some simple graphing in pandas.\n",
    "I am using a new data file that is the same format as my previous article but includes data for only 20 customers.\n",
    "First we are going to import pandas, numpy and matplot lib. \n",
    "I am also showing the versions I'm testing so you can make sure yours is compatible."
   ]
  },
  {
   "cell_type": "code",
   "execution_count": 2,
   "metadata": {},
   "outputs": [
    {
     "data": {
      "text/plain": [
       "'0.24.2'"
      ]
     },
     "execution_count": 2,
     "metadata": {},
     "output_type": "execute_result"
    }
   ],
   "source": [
    "import pandas as pd\n",
    "import numpy as np\n",
    "import matplotlib.pyplot as plt\n",
    "pd.__version__"
   ]
  },
  {
   "cell_type": "markdown",
   "metadata": {},
   "source": [
    "Next, enable iPython to display matplotlib graphs. As an alternative you can run ipython notebook."
   ]
  },
  {
   "cell_type": "code",
   "execution_count": 9,
   "metadata": {},
   "outputs": [],
   "source": [
    "%matplotlib inline"
   ]
  },
  {
   "cell_type": "markdown",
   "metadata": {},
   "source": [
    "We will read in the file like we did in the previous article but I'm going to tell it to treat the date column as a date field so I can do some re-sampling later."
   ]
  },
  {
   "cell_type": "code",
   "execution_count": 64,
   "metadata": {},
   "outputs": [
    {
     "data": {
      "text/html": [
       "<div>\n",
       "<style scoped>\n",
       "    .dataframe tbody tr th:only-of-type {\n",
       "        vertical-align: middle;\n",
       "    }\n",
       "\n",
       "    .dataframe tbody tr th {\n",
       "        vertical-align: top;\n",
       "    }\n",
       "\n",
       "    .dataframe thead th {\n",
       "        text-align: right;\n",
       "    }\n",
       "</style>\n",
       "<table border=\"1\" class=\"dataframe\">\n",
       "  <thead>\n",
       "    <tr style=\"text-align: right;\">\n",
       "      <th></th>\n",
       "      <th>account number</th>\n",
       "      <th>name</th>\n",
       "      <th>sku</th>\n",
       "      <th>category</th>\n",
       "      <th>quantity</th>\n",
       "      <th>unit price</th>\n",
       "      <th>ext price</th>\n",
       "      <th>Tax rate</th>\n",
       "      <th>Tax amount</th>\n",
       "      <th>date</th>\n",
       "    </tr>\n",
       "  </thead>\n",
       "  <tbody>\n",
       "    <tr>\n",
       "      <th>0</th>\n",
       "      <td>296809</td>\n",
       "      <td>Carroll PLC</td>\n",
       "      <td>QN-82852</td>\n",
       "      <td>Belt</td>\n",
       "      <td>13</td>\n",
       "      <td>44.48</td>\n",
       "      <td>578.24</td>\n",
       "      <td>0.070</td>\n",
       "      <td>40.47680</td>\n",
       "      <td>2014-09-27 07:13:03</td>\n",
       "    </tr>\n",
       "    <tr>\n",
       "      <th>1</th>\n",
       "      <td>98022</td>\n",
       "      <td>Heidenreich-Bosco</td>\n",
       "      <td>MJ-21460</td>\n",
       "      <td>Shoes</td>\n",
       "      <td>19</td>\n",
       "      <td>53.62</td>\n",
       "      <td>1018.78</td>\n",
       "      <td>0.070</td>\n",
       "      <td>71.31460</td>\n",
       "      <td>2014-07-29 02:10:44</td>\n",
       "    </tr>\n",
       "    <tr>\n",
       "      <th>2</th>\n",
       "      <td>563905</td>\n",
       "      <td>Kerluke, Reilly and Bechtelar</td>\n",
       "      <td>AS-93055</td>\n",
       "      <td>Shirt</td>\n",
       "      <td>12</td>\n",
       "      <td>24.16</td>\n",
       "      <td>289.92</td>\n",
       "      <td>0.070</td>\n",
       "      <td>20.29440</td>\n",
       "      <td>2014-03-01 10:51:24</td>\n",
       "    </tr>\n",
       "    <tr>\n",
       "      <th>3</th>\n",
       "      <td>93356</td>\n",
       "      <td>Waters-Walker</td>\n",
       "      <td>AS-93055</td>\n",
       "      <td>Shirt</td>\n",
       "      <td>5</td>\n",
       "      <td>82.68</td>\n",
       "      <td>413.40</td>\n",
       "      <td>0.070</td>\n",
       "      <td>28.93800</td>\n",
       "      <td>2013-11-17 20:41:11</td>\n",
       "    </tr>\n",
       "    <tr>\n",
       "      <th>4</th>\n",
       "      <td>659366</td>\n",
       "      <td>Waelchi-Fahey</td>\n",
       "      <td>AS-93055</td>\n",
       "      <td>Shirt</td>\n",
       "      <td>18</td>\n",
       "      <td>99.64</td>\n",
       "      <td>1793.52</td>\n",
       "      <td>0.070</td>\n",
       "      <td>125.54640</td>\n",
       "      <td>2014-01-03 08:14:27</td>\n",
       "    </tr>\n",
       "    <tr>\n",
       "      <th>5</th>\n",
       "      <td>563905</td>\n",
       "      <td>Kerluke, Reilly and Bechtelar</td>\n",
       "      <td>AS-93055</td>\n",
       "      <td>Shirt</td>\n",
       "      <td>17</td>\n",
       "      <td>52.82</td>\n",
       "      <td>897.94</td>\n",
       "      <td>0.070</td>\n",
       "      <td>62.85580</td>\n",
       "      <td>2013-12-04 02:07:05</td>\n",
       "    </tr>\n",
       "    <tr>\n",
       "      <th>6</th>\n",
       "      <td>995267</td>\n",
       "      <td>Cole-Eichmann</td>\n",
       "      <td>GS-86623</td>\n",
       "      <td>Shoes</td>\n",
       "      <td>18</td>\n",
       "      <td>15.28</td>\n",
       "      <td>275.04</td>\n",
       "      <td>0.070</td>\n",
       "      <td>19.25280</td>\n",
       "      <td>2014-04-09 16:15:03</td>\n",
       "    </tr>\n",
       "    <tr>\n",
       "      <th>7</th>\n",
       "      <td>524021</td>\n",
       "      <td>Hegmann and Sons</td>\n",
       "      <td>LL-46261</td>\n",
       "      <td>Shoes</td>\n",
       "      <td>7</td>\n",
       "      <td>78.78</td>\n",
       "      <td>551.46</td>\n",
       "      <td>0.070</td>\n",
       "      <td>38.60220</td>\n",
       "      <td>2014-06-18 19:25:10</td>\n",
       "    </tr>\n",
       "    <tr>\n",
       "      <th>8</th>\n",
       "      <td>929400</td>\n",
       "      <td>Senger, Upton and Breitenberg</td>\n",
       "      <td>LW-86841</td>\n",
       "      <td>Shoes</td>\n",
       "      <td>17</td>\n",
       "      <td>38.19</td>\n",
       "      <td>649.23</td>\n",
       "      <td>0.015</td>\n",
       "      <td>9.73845</td>\n",
       "      <td>2014-02-10 05:55:56</td>\n",
       "    </tr>\n",
       "    <tr>\n",
       "      <th>9</th>\n",
       "      <td>563905</td>\n",
       "      <td>Kerluke, Reilly and Bechtelar</td>\n",
       "      <td>KV-99194</td>\n",
       "      <td>Shirt</td>\n",
       "      <td>12</td>\n",
       "      <td>26.98</td>\n",
       "      <td>323.76</td>\n",
       "      <td>0.015</td>\n",
       "      <td>4.85640</td>\n",
       "      <td>2014-05-20 00:21:28</td>\n",
       "    </tr>\n",
       "  </tbody>\n",
       "</table>\n",
       "</div>"
      ],
      "text/plain": [
       "   account number                           name       sku category  quantity  \\\n",
       "0          296809                    Carroll PLC  QN-82852     Belt        13   \n",
       "1           98022              Heidenreich-Bosco  MJ-21460    Shoes        19   \n",
       "2          563905  Kerluke, Reilly and Bechtelar  AS-93055    Shirt        12   \n",
       "3           93356                  Waters-Walker  AS-93055    Shirt         5   \n",
       "4          659366                  Waelchi-Fahey  AS-93055    Shirt        18   \n",
       "5          563905  Kerluke, Reilly and Bechtelar  AS-93055    Shirt        17   \n",
       "6          995267                  Cole-Eichmann  GS-86623    Shoes        18   \n",
       "7          524021               Hegmann and Sons  LL-46261    Shoes         7   \n",
       "8          929400  Senger, Upton and Breitenberg  LW-86841    Shoes        17   \n",
       "9          563905  Kerluke, Reilly and Bechtelar  KV-99194    Shirt        12   \n",
       "\n",
       "   unit price  ext price  Tax rate  Tax amount                date  \n",
       "0       44.48     578.24     0.070    40.47680 2014-09-27 07:13:03  \n",
       "1       53.62    1018.78     0.070    71.31460 2014-07-29 02:10:44  \n",
       "2       24.16     289.92     0.070    20.29440 2014-03-01 10:51:24  \n",
       "3       82.68     413.40     0.070    28.93800 2013-11-17 20:41:11  \n",
       "4       99.64    1793.52     0.070   125.54640 2014-01-03 08:14:27  \n",
       "5       52.82     897.94     0.070    62.85580 2013-12-04 02:07:05  \n",
       "6       15.28     275.04     0.070    19.25280 2014-04-09 16:15:03  \n",
       "7       78.78     551.46     0.070    38.60220 2014-06-18 19:25:10  \n",
       "8       38.19     649.23     0.015     9.73845 2014-02-10 05:55:56  \n",
       "9       26.98     323.76     0.015     4.85640 2014-05-20 00:21:28  "
      ]
     },
     "execution_count": 64,
     "metadata": {},
     "output_type": "execute_result"
    }
   ],
   "source": [
    "sales=pd.read_csv(\"../data/sample-sales-tax.csv\", parse_dates=['date'])\n",
    "sales.head(10)"
   ]
  },
  {
   "cell_type": "code",
   "execution_count": 65,
   "metadata": {},
   "outputs": [
    {
     "data": {
      "text/plain": [
       "(1000, 10)"
      ]
     },
     "execution_count": 65,
     "metadata": {},
     "output_type": "execute_result"
    }
   ],
   "source": [
    "sales.shape"
   ]
  },
  {
   "cell_type": "markdown",
   "metadata": {},
   "source": [
    "Now that we have read in the data, we can do some quick analysis"
   ]
  },
  {
   "cell_type": "code",
   "execution_count": 66,
   "metadata": {},
   "outputs": [
    {
     "data": {
      "text/html": [
       "<div>\n",
       "<style scoped>\n",
       "    .dataframe tbody tr th:only-of-type {\n",
       "        vertical-align: middle;\n",
       "    }\n",
       "\n",
       "    .dataframe tbody tr th {\n",
       "        vertical-align: top;\n",
       "    }\n",
       "\n",
       "    .dataframe thead th {\n",
       "        text-align: right;\n",
       "    }\n",
       "</style>\n",
       "<table border=\"1\" class=\"dataframe\">\n",
       "  <thead>\n",
       "    <tr style=\"text-align: right;\">\n",
       "      <th></th>\n",
       "      <th>count</th>\n",
       "      <th>mean</th>\n",
       "      <th>std</th>\n",
       "      <th>min</th>\n",
       "      <th>25%</th>\n",
       "      <th>50%</th>\n",
       "      <th>75%</th>\n",
       "      <th>max</th>\n",
       "    </tr>\n",
       "  </thead>\n",
       "  <tbody>\n",
       "    <tr>\n",
       "      <th>account number</th>\n",
       "      <td>1000.0</td>\n",
       "      <td>535208.897000</td>\n",
       "      <td>277589.746014</td>\n",
       "      <td>93356.00000</td>\n",
       "      <td>299771.000000</td>\n",
       "      <td>563905.0000</td>\n",
       "      <td>750461.000000</td>\n",
       "      <td>995267.00</td>\n",
       "    </tr>\n",
       "    <tr>\n",
       "      <th>quantity</th>\n",
       "      <td>1000.0</td>\n",
       "      <td>10.328000</td>\n",
       "      <td>5.687597</td>\n",
       "      <td>1.00000</td>\n",
       "      <td>5.750000</td>\n",
       "      <td>10.0000</td>\n",
       "      <td>15.000000</td>\n",
       "      <td>20.00</td>\n",
       "    </tr>\n",
       "    <tr>\n",
       "      <th>unit price</th>\n",
       "      <td>1000.0</td>\n",
       "      <td>56.179630</td>\n",
       "      <td>25.331939</td>\n",
       "      <td>10.06000</td>\n",
       "      <td>35.995000</td>\n",
       "      <td>56.7650</td>\n",
       "      <td>76.802500</td>\n",
       "      <td>99.97</td>\n",
       "    </tr>\n",
       "    <tr>\n",
       "      <th>ext price</th>\n",
       "      <td>1000.0</td>\n",
       "      <td>579.843900</td>\n",
       "      <td>435.303810</td>\n",
       "      <td>10.38000</td>\n",
       "      <td>232.605000</td>\n",
       "      <td>471.7200</td>\n",
       "      <td>878.137500</td>\n",
       "      <td>1994.80</td>\n",
       "    </tr>\n",
       "    <tr>\n",
       "      <th>Tax rate</th>\n",
       "      <td>1000.0</td>\n",
       "      <td>0.035863</td>\n",
       "      <td>0.025598</td>\n",
       "      <td>0.00300</td>\n",
       "      <td>0.015000</td>\n",
       "      <td>0.0300</td>\n",
       "      <td>0.040000</td>\n",
       "      <td>0.15</td>\n",
       "    </tr>\n",
       "    <tr>\n",
       "      <th>Tax amount</th>\n",
       "      <td>1000.0</td>\n",
       "      <td>20.058881</td>\n",
       "      <td>22.463583</td>\n",
       "      <td>0.20205</td>\n",
       "      <td>5.327175</td>\n",
       "      <td>13.1698</td>\n",
       "      <td>26.302725</td>\n",
       "      <td>191.25</td>\n",
       "    </tr>\n",
       "  </tbody>\n",
       "</table>\n",
       "</div>"
      ],
      "text/plain": [
       "                 count           mean            std          min  \\\n",
       "account number  1000.0  535208.897000  277589.746014  93356.00000   \n",
       "quantity        1000.0      10.328000       5.687597      1.00000   \n",
       "unit price      1000.0      56.179630      25.331939     10.06000   \n",
       "ext price       1000.0     579.843900     435.303810     10.38000   \n",
       "Tax rate        1000.0       0.035863       0.025598      0.00300   \n",
       "Tax amount      1000.0      20.058881      22.463583      0.20205   \n",
       "\n",
       "                          25%          50%            75%        max  \n",
       "account number  299771.000000  563905.0000  750461.000000  995267.00  \n",
       "quantity             5.750000      10.0000      15.000000      20.00  \n",
       "unit price          35.995000      56.7650      76.802500      99.97  \n",
       "ext price          232.605000     471.7200     878.137500    1994.80  \n",
       "Tax rate             0.015000       0.0300       0.040000       0.15  \n",
       "Tax amount           5.327175      13.1698      26.302725     191.25  "
      ]
     },
     "execution_count": 66,
     "metadata": {},
     "output_type": "execute_result"
    }
   ],
   "source": [
    "sales.describe().transpose()"
   ]
  },
  {
   "cell_type": "markdown",
   "metadata": {},
   "source": [
    "We can actually learn some pretty helpful info from this simple command:\n",
    "For example, we can tell that customers on average purchases 10.3 items per transaction and that the average cost of the transaction was $579.84. It is also easy to see the min and max so you understand the range of the data."
   ]
  },
  {
   "cell_type": "code",
   "execution_count": 68,
   "metadata": {},
   "outputs": [
    {
     "data": {
      "text/plain": [
       "count    1000.000000\n",
       "mean       56.179630\n",
       "std        25.331939\n",
       "min        10.060000\n",
       "25%        35.995000\n",
       "50%        56.765000\n",
       "75%        76.802500\n",
       "max        99.970000\n",
       "Name: unit price, dtype: float64"
      ]
     },
     "execution_count": 68,
     "metadata": {},
     "output_type": "execute_result"
    }
   ],
   "source": [
    "sales['unit price'].describe()"
   ]
  },
  {
   "cell_type": "markdown",
   "metadata": {},
   "source": [
    "It is easy to call describe on a single column too. I can see that my average price is \\$56.18 but it ranges from \\$10.06 to \\$99.97."
   ]
  },
  {
   "cell_type": "markdown",
   "metadata": {},
   "source": [
    "I am showing the output of dtypes so that you can see that the date column is a datetime field. I also scan this to make sure that any columns that have numbers are floats or ints so that I can do additional analysis in the future."
   ]
  },
  {
   "cell_type": "code",
   "execution_count": 69,
   "metadata": {},
   "outputs": [
    {
     "data": {
      "text/plain": [
       "account number             int64\n",
       "name                      object\n",
       "sku                       object\n",
       "category                  object\n",
       "quantity                   int64\n",
       "unit price               float64\n",
       "ext price                float64\n",
       "Tax rate                 float64\n",
       "Tax amount               float64\n",
       "date              datetime64[ns]\n",
       "dtype: object"
      ]
     },
     "execution_count": 69,
     "metadata": {},
     "output_type": "execute_result"
    }
   ],
   "source": [
    "sales.dtypes"
   ]
  },
  {
   "cell_type": "markdown",
   "metadata": {},
   "source": [
    "Now we remove some columns to make additional analysis easier."
   ]
  },
  {
   "cell_type": "code",
   "execution_count": 71,
   "metadata": {},
   "outputs": [
    {
     "data": {
      "text/html": [
       "<div>\n",
       "<style scoped>\n",
       "    .dataframe tbody tr th:only-of-type {\n",
       "        vertical-align: middle;\n",
       "    }\n",
       "\n",
       "    .dataframe tbody tr th {\n",
       "        vertical-align: top;\n",
       "    }\n",
       "\n",
       "    .dataframe thead th {\n",
       "        text-align: right;\n",
       "    }\n",
       "</style>\n",
       "<table border=\"1\" class=\"dataframe\">\n",
       "  <thead>\n",
       "    <tr style=\"text-align: right;\">\n",
       "      <th></th>\n",
       "      <th>name</th>\n",
       "      <th>ext price</th>\n",
       "      <th>date</th>\n",
       "    </tr>\n",
       "  </thead>\n",
       "  <tbody>\n",
       "    <tr>\n",
       "      <th>0</th>\n",
       "      <td>Carroll PLC</td>\n",
       "      <td>578.24</td>\n",
       "      <td>2014-09-27 07:13:03</td>\n",
       "    </tr>\n",
       "    <tr>\n",
       "      <th>1</th>\n",
       "      <td>Heidenreich-Bosco</td>\n",
       "      <td>1018.78</td>\n",
       "      <td>2014-07-29 02:10:44</td>\n",
       "    </tr>\n",
       "    <tr>\n",
       "      <th>2</th>\n",
       "      <td>Kerluke, Reilly and Bechtelar</td>\n",
       "      <td>289.92</td>\n",
       "      <td>2014-03-01 10:51:24</td>\n",
       "    </tr>\n",
       "    <tr>\n",
       "      <th>3</th>\n",
       "      <td>Waters-Walker</td>\n",
       "      <td>413.40</td>\n",
       "      <td>2013-11-17 20:41:11</td>\n",
       "    </tr>\n",
       "    <tr>\n",
       "      <th>4</th>\n",
       "      <td>Waelchi-Fahey</td>\n",
       "      <td>1793.52</td>\n",
       "      <td>2014-01-03 08:14:27</td>\n",
       "    </tr>\n",
       "  </tbody>\n",
       "</table>\n",
       "</div>"
      ],
      "text/plain": [
       "                            name  ext price                date\n",
       "0                    Carroll PLC     578.24 2014-09-27 07:13:03\n",
       "1              Heidenreich-Bosco    1018.78 2014-07-29 02:10:44\n",
       "2  Kerluke, Reilly and Bechtelar     289.92 2014-03-01 10:51:24\n",
       "3                  Waters-Walker     413.40 2013-11-17 20:41:11\n",
       "4                  Waelchi-Fahey    1793.52 2014-01-03 08:14:27"
      ]
     },
     "execution_count": 71,
     "metadata": {},
     "output_type": "execute_result"
    }
   ],
   "source": [
    "customers = sales[['name','ext price','date']]\n",
    "customers.head()"
   ]
  },
  {
   "cell_type": "markdown",
   "metadata": {},
   "source": [
    "This representation has multiple lines for each customer. In order to understand purchasing patterns, let's group all the customers by name."
   ]
  },
  {
   "cell_type": "code",
   "execution_count": 72,
   "metadata": {},
   "outputs": [
    {
     "data": {
      "text/plain": [
       "name\n",
       "Berge LLC                        52\n",
       "Carroll PLC                      57\n",
       "Cole-Eichmann                    51\n",
       "Davis, Kshlerin and Reilly       41\n",
       "Ernser, Cruickshank and Lind     47\n",
       "Gorczany-Hahn                    42\n",
       "Hamill-Hackett                   44\n",
       "Hegmann and Sons                 58\n",
       "Heidenreich-Bosco                40\n",
       "Huel-Haag                        43\n",
       "Kerluke, Reilly and Bechtelar    52\n",
       "Kihn, McClure and Denesik        58\n",
       "Kilback-Gerlach                  45\n",
       "Koelpin PLC                      53\n",
       "Kunze Inc                        54\n",
       "Kuphal, Zieme and Kub            52\n",
       "Senger, Upton and Breitenberg    59\n",
       "Volkman, Goyette and Lemke       48\n",
       "Waelchi-Fahey                    54\n",
       "Waters-Walker                    50\n",
       "dtype: int64"
      ]
     },
     "execution_count": 72,
     "metadata": {},
     "output_type": "execute_result"
    }
   ],
   "source": [
    "customer_group = customers.groupby('name')\n",
    "customer_group.size()"
   ]
  },
  {
   "cell_type": "code",
   "execution_count": 74,
   "metadata": {},
   "outputs": [
    {
     "data": {
      "text/plain": [
       "52"
      ]
     },
     "execution_count": 74,
     "metadata": {},
     "output_type": "execute_result"
    }
   ],
   "source": [
    "count_name = sales[sales.name == 'Berge LLC'].name.count()\n",
    "count_name"
   ]
  },
  {
   "cell_type": "markdown",
   "metadata": {},
   "source": [
    "Now that our data is in a simple format to manipulate, let's determine how much each customer purchased during our time frame.\n",
    "\n",
    "The sum function allows us to quickly sum up all the values by customer. We can also sort the data using the sort command."
   ]
  },
  {
   "cell_type": "code",
   "execution_count": 75,
   "metadata": {},
   "outputs": [
    {
     "data": {
      "text/html": [
       "<div>\n",
       "<style scoped>\n",
       "    .dataframe tbody tr th:only-of-type {\n",
       "        vertical-align: middle;\n",
       "    }\n",
       "\n",
       "    .dataframe tbody tr th {\n",
       "        vertical-align: top;\n",
       "    }\n",
       "\n",
       "    .dataframe thead th {\n",
       "        text-align: right;\n",
       "    }\n",
       "</style>\n",
       "<table border=\"1\" class=\"dataframe\">\n",
       "  <thead>\n",
       "    <tr style=\"text-align: right;\">\n",
       "      <th></th>\n",
       "      <th>ext price</th>\n",
       "    </tr>\n",
       "    <tr>\n",
       "      <th>name</th>\n",
       "      <th></th>\n",
       "    </tr>\n",
       "  </thead>\n",
       "  <tbody>\n",
       "    <tr>\n",
       "      <th>Davis, Kshlerin and Reilly</th>\n",
       "      <td>19054.76</td>\n",
       "    </tr>\n",
       "    <tr>\n",
       "      <th>Huel-Haag</th>\n",
       "      <td>21087.88</td>\n",
       "    </tr>\n",
       "    <tr>\n",
       "      <th>Gorczany-Hahn</th>\n",
       "      <td>22207.90</td>\n",
       "    </tr>\n",
       "    <tr>\n",
       "      <th>Hamill-Hackett</th>\n",
       "      <td>23433.78</td>\n",
       "    </tr>\n",
       "    <tr>\n",
       "      <th>Heidenreich-Bosco</th>\n",
       "      <td>25428.29</td>\n",
       "    </tr>\n",
       "  </tbody>\n",
       "</table>\n",
       "</div>"
      ],
      "text/plain": [
       "                            ext price\n",
       "name                                 \n",
       "Davis, Kshlerin and Reilly   19054.76\n",
       "Huel-Haag                    21087.88\n",
       "Gorczany-Hahn                22207.90\n",
       "Hamill-Hackett               23433.78\n",
       "Heidenreich-Bosco            25428.29"
      ]
     },
     "execution_count": 75,
     "metadata": {},
     "output_type": "execute_result"
    }
   ],
   "source": [
    "sales_totals = customer_group.sum()\n",
    "sales_totals.sort_values(by=['ext price']).head()"
   ]
  },
  {
   "cell_type": "markdown",
   "metadata": {},
   "source": [
    "Now that we know what the data look like, tt is very simple to create a quick bar chart plot."
   ]
  },
  {
   "cell_type": "code",
   "execution_count": 76,
   "metadata": {},
   "outputs": [
    {
     "data": {
      "image/png": "[encoded data removed]",
      "text/plain": [
       "<Figure size 432x288 with 1 Axes>"
      ]
     },
     "metadata": {
      "needs_background": "light"
     },
     "output_type": "display_data"
    }
   ],
   "source": [
    "my_plot = sales_totals.plot(kind='bar')"
   ]
  },
  {
   "cell_type": "markdown",
   "metadata": {},
   "source": [
    "Unfortunately this chart is a little ugly. With a few tweaks we can make it a little more impactful.\n",
    "Let's try:\n",
    "- sorting the data in descending order.\n",
    "- Removing the legend\n",
    "- Adding a title\n",
    "- Labeling the axes"
   ]
  },
  {
   "cell_type": "code",
   "execution_count": 77,
   "metadata": {},
   "outputs": [
    {
     "data": {
      "text/plain": [
       "Text(0, 0.5, 'Sales ($)')"
      ]
     },
     "execution_count": 77,
     "metadata": {},
     "output_type": "execute_result"
    },
    {
     "data": {
      "image/png": "[encoded data removed]",
      "text/plain": [
       "<Figure size 432x288 with 1 Axes>"
      ]
     },
     "metadata": {
      "needs_background": "light"
     },
     "output_type": "display_data"
    }
   ],
   "source": [
    "my_plot = sales_totals.sort_values(by=['ext price'],ascending=False).plot(kind='bar',legend=None,title=\"Total Sales by Customer\")\n",
    "my_plot.set_xlabel(\"Customers\")\n",
    "my_plot.set_ylabel(\"Sales ($)\")"
   ]
  },
  {
   "cell_type": "markdown",
   "metadata": {},
   "source": [
    "This actually tells us a little about our biggest customers and how much difference there is between their sales and our smallest customers.\n",
    "\n",
    "Now, let's try to see how the sales break down by category."
   ]
  },
  {
   "cell_type": "code",
   "execution_count": 81,
   "metadata": {},
   "outputs": [
    {
     "data": {
      "text/html": [
       "<div>\n",
       "<style scoped>\n",
       "    .dataframe tbody tr th:only-of-type {\n",
       "        vertical-align: middle;\n",
       "    }\n",
       "\n",
       "    .dataframe tbody tr th {\n",
       "        vertical-align: top;\n",
       "    }\n",
       "\n",
       "    .dataframe thead th {\n",
       "        text-align: right;\n",
       "    }\n",
       "</style>\n",
       "<table border=\"1\" class=\"dataframe\">\n",
       "  <thead>\n",
       "    <tr style=\"text-align: right;\">\n",
       "      <th></th>\n",
       "      <th>name</th>\n",
       "      <th>category</th>\n",
       "      <th>ext price</th>\n",
       "      <th>date</th>\n",
       "    </tr>\n",
       "  </thead>\n",
       "  <tbody>\n",
       "    <tr>\n",
       "      <th>0</th>\n",
       "      <td>Carroll PLC</td>\n",
       "      <td>Belt</td>\n",
       "      <td>578.24</td>\n",
       "      <td>2014-09-27 07:13:03</td>\n",
       "    </tr>\n",
       "    <tr>\n",
       "      <th>1</th>\n",
       "      <td>Heidenreich-Bosco</td>\n",
       "      <td>Shoes</td>\n",
       "      <td>1018.78</td>\n",
       "      <td>2014-07-29 02:10:44</td>\n",
       "    </tr>\n",
       "    <tr>\n",
       "      <th>2</th>\n",
       "      <td>Kerluke, Reilly and Bechtelar</td>\n",
       "      <td>Shirt</td>\n",
       "      <td>289.92</td>\n",
       "      <td>2014-03-01 10:51:24</td>\n",
       "    </tr>\n",
       "    <tr>\n",
       "      <th>3</th>\n",
       "      <td>Waters-Walker</td>\n",
       "      <td>Shirt</td>\n",
       "      <td>413.40</td>\n",
       "      <td>2013-11-17 20:41:11</td>\n",
       "    </tr>\n",
       "    <tr>\n",
       "      <th>4</th>\n",
       "      <td>Waelchi-Fahey</td>\n",
       "      <td>Shirt</td>\n",
       "      <td>1793.52</td>\n",
       "      <td>2014-01-03 08:14:27</td>\n",
       "    </tr>\n",
       "  </tbody>\n",
       "</table>\n",
       "</div>"
      ],
      "text/plain": [
       "                            name category  ext price                date\n",
       "0                    Carroll PLC     Belt     578.24 2014-09-27 07:13:03\n",
       "1              Heidenreich-Bosco    Shoes    1018.78 2014-07-29 02:10:44\n",
       "2  Kerluke, Reilly and Bechtelar    Shirt     289.92 2014-03-01 10:51:24\n",
       "3                  Waters-Walker    Shirt     413.40 2013-11-17 20:41:11\n",
       "4                  Waelchi-Fahey    Shirt    1793.52 2014-01-03 08:14:27"
      ]
     },
     "execution_count": 81,
     "metadata": {},
     "output_type": "execute_result"
    }
   ],
   "source": [
    "customers = sales[['name', 'category', 'ext price','date']]\n",
    "customers.head()"
   ]
  },
  {
   "cell_type": "markdown",
   "metadata": {},
   "source": [
    "We can use groupby to organize the data by category and name."
   ]
  },
  {
   "cell_type": "code",
   "execution_count": 84,
   "metadata": {},
   "outputs": [
    {
     "data": {
      "text/html": [
       "<div>\n",
       "<style scoped>\n",
       "    .dataframe tbody tr th:only-of-type {\n",
       "        vertical-align: middle;\n",
       "    }\n",
       "\n",
       "    .dataframe tbody tr th {\n",
       "        vertical-align: top;\n",
       "    }\n",
       "\n",
       "    .dataframe thead th {\n",
       "        text-align: right;\n",
       "    }\n",
       "</style>\n",
       "<table border=\"1\" class=\"dataframe\">\n",
       "  <thead>\n",
       "    <tr style=\"text-align: right;\">\n",
       "      <th></th>\n",
       "      <th></th>\n",
       "      <th>ext price</th>\n",
       "    </tr>\n",
       "    <tr>\n",
       "      <th>name</th>\n",
       "      <th>category</th>\n",
       "      <th></th>\n",
       "    </tr>\n",
       "  </thead>\n",
       "  <tbody>\n",
       "    <tr>\n",
       "      <th rowspan=\"3\" valign=\"top\">Berge LLC</th>\n",
       "      <th>Belt</th>\n",
       "      <td>6033.53</td>\n",
       "    </tr>\n",
       "    <tr>\n",
       "      <th>Shirt</th>\n",
       "      <td>9670.24</td>\n",
       "    </tr>\n",
       "    <tr>\n",
       "      <th>Shoes</th>\n",
       "      <td>14361.10</td>\n",
       "    </tr>\n",
       "    <tr>\n",
       "      <th rowspan=\"3\" valign=\"top\">Carroll PLC</th>\n",
       "      <th>Belt</th>\n",
       "      <td>9359.26</td>\n",
       "    </tr>\n",
       "    <tr>\n",
       "      <th>Shirt</th>\n",
       "      <td>13717.61</td>\n",
       "    </tr>\n",
       "    <tr>\n",
       "      <th>Shoes</th>\n",
       "      <td>12857.44</td>\n",
       "    </tr>\n",
       "    <tr>\n",
       "      <th rowspan=\"3\" valign=\"top\">Cole-Eichmann</th>\n",
       "      <th>Belt</th>\n",
       "      <td>8112.70</td>\n",
       "    </tr>\n",
       "    <tr>\n",
       "      <th>Shirt</th>\n",
       "      <td>14528.01</td>\n",
       "    </tr>\n",
       "    <tr>\n",
       "      <th>Shoes</th>\n",
       "      <td>7794.71</td>\n",
       "    </tr>\n",
       "    <tr>\n",
       "      <th rowspan=\"3\" valign=\"top\">Davis, Kshlerin and Reilly</th>\n",
       "      <th>Belt</th>\n",
       "      <td>1604.13</td>\n",
       "    </tr>\n",
       "    <tr>\n",
       "      <th>Shirt</th>\n",
       "      <td>7533.03</td>\n",
       "    </tr>\n",
       "    <tr>\n",
       "      <th>Shoes</th>\n",
       "      <td>9917.60</td>\n",
       "    </tr>\n",
       "    <tr>\n",
       "      <th rowspan=\"3\" valign=\"top\">Ernser, Cruickshank and Lind</th>\n",
       "      <th>Belt</th>\n",
       "      <td>5894.38</td>\n",
       "    </tr>\n",
       "    <tr>\n",
       "      <th>Shirt</th>\n",
       "      <td>16944.19</td>\n",
       "    </tr>\n",
       "    <tr>\n",
       "      <th>Shoes</th>\n",
       "      <td>5250.45</td>\n",
       "    </tr>\n",
       "    <tr>\n",
       "      <th rowspan=\"3\" valign=\"top\">Gorczany-Hahn</th>\n",
       "      <th>Belt</th>\n",
       "      <td>3642.48</td>\n",
       "    </tr>\n",
       "    <tr>\n",
       "      <th>Shirt</th>\n",
       "      <td>12576.83</td>\n",
       "    </tr>\n",
       "    <tr>\n",
       "      <th>Shoes</th>\n",
       "      <td>5988.59</td>\n",
       "    </tr>\n",
       "    <tr>\n",
       "      <th rowspan=\"3\" valign=\"top\">Hamill-Hackett</th>\n",
       "      <th>Belt</th>\n",
       "      <td>1609.74</td>\n",
       "    </tr>\n",
       "    <tr>\n",
       "      <th>Shirt</th>\n",
       "      <td>8880.04</td>\n",
       "    </tr>\n",
       "    <tr>\n",
       "      <th>Shoes</th>\n",
       "      <td>12944.00</td>\n",
       "    </tr>\n",
       "    <tr>\n",
       "      <th rowspan=\"3\" valign=\"top\">Hegmann and Sons</th>\n",
       "      <th>Belt</th>\n",
       "      <td>4909.38</td>\n",
       "    </tr>\n",
       "    <tr>\n",
       "      <th>Shirt</th>\n",
       "      <td>16774.47</td>\n",
       "    </tr>\n",
       "    <tr>\n",
       "      <th>Shoes</th>\n",
       "      <td>13529.87</td>\n",
       "    </tr>\n",
       "    <tr>\n",
       "      <th rowspan=\"3\" valign=\"top\">Heidenreich-Bosco</th>\n",
       "      <th>Belt</th>\n",
       "      <td>6262.94</td>\n",
       "    </tr>\n",
       "    <tr>\n",
       "      <th>Shirt</th>\n",
       "      <td>5965.25</td>\n",
       "    </tr>\n",
       "    <tr>\n",
       "      <th>Shoes</th>\n",
       "      <td>13200.10</td>\n",
       "    </tr>\n",
       "    <tr>\n",
       "      <th rowspan=\"3\" valign=\"top\">Huel-Haag</th>\n",
       "      <th>Belt</th>\n",
       "      <td>2219.51</td>\n",
       "    </tr>\n",
       "    <tr>\n",
       "      <th>Shirt</th>\n",
       "      <td>11944.01</td>\n",
       "    </tr>\n",
       "    <tr>\n",
       "      <th>Shoes</th>\n",
       "      <td>6924.36</td>\n",
       "    </tr>\n",
       "    <tr>\n",
       "      <th rowspan=\"3\" valign=\"top\">Kerluke, Reilly and Bechtelar</th>\n",
       "      <th>Belt</th>\n",
       "      <td>4102.11</td>\n",
       "    </tr>\n",
       "    <tr>\n",
       "      <th>Shirt</th>\n",
       "      <td>12958.23</td>\n",
       "    </tr>\n",
       "    <tr>\n",
       "      <th>Shoes</th>\n",
       "      <td>10329.09</td>\n",
       "    </tr>\n",
       "    <tr>\n",
       "      <th rowspan=\"3\" valign=\"top\">Kihn, McClure and Denesik</th>\n",
       "      <th>Belt</th>\n",
       "      <td>10116.90</td>\n",
       "    </tr>\n",
       "    <tr>\n",
       "      <th>Shirt</th>\n",
       "      <td>18956.35</td>\n",
       "    </tr>\n",
       "    <tr>\n",
       "      <th>Shoes</th>\n",
       "      <td>9862.04</td>\n",
       "    </tr>\n",
       "    <tr>\n",
       "      <th rowspan=\"3\" valign=\"top\">Kilback-Gerlach</th>\n",
       "      <th>Belt</th>\n",
       "      <td>2863.40</td>\n",
       "    </tr>\n",
       "    <tr>\n",
       "      <th>Shirt</th>\n",
       "      <td>9904.85</td>\n",
       "    </tr>\n",
       "    <tr>\n",
       "      <th>Shoes</th>\n",
       "      <td>14218.95</td>\n",
       "    </tr>\n",
       "    <tr>\n",
       "      <th rowspan=\"3\" valign=\"top\">Koelpin PLC</th>\n",
       "      <th>Belt</th>\n",
       "      <td>5327.96</td>\n",
       "    </tr>\n",
       "    <tr>\n",
       "      <th>Shirt</th>\n",
       "      <td>7908.28</td>\n",
       "    </tr>\n",
       "    <tr>\n",
       "      <th>Shoes</th>\n",
       "      <td>13575.42</td>\n",
       "    </tr>\n",
       "    <tr>\n",
       "      <th rowspan=\"3\" valign=\"top\">Kunze Inc</th>\n",
       "      <th>Belt</th>\n",
       "      <td>4264.59</td>\n",
       "    </tr>\n",
       "    <tr>\n",
       "      <th>Shirt</th>\n",
       "      <td>15638.87</td>\n",
       "    </tr>\n",
       "    <tr>\n",
       "      <th>Shoes</th>\n",
       "      <td>14503.08</td>\n",
       "    </tr>\n",
       "    <tr>\n",
       "      <th rowspan=\"3\" valign=\"top\">Kuphal, Zieme and Kub</th>\n",
       "      <th>Belt</th>\n",
       "      <td>2009.69</td>\n",
       "    </tr>\n",
       "    <tr>\n",
       "      <th>Shirt</th>\n",
       "      <td>12101.14</td>\n",
       "    </tr>\n",
       "    <tr>\n",
       "      <th>Shoes</th>\n",
       "      <td>12921.03</td>\n",
       "    </tr>\n",
       "    <tr>\n",
       "      <th rowspan=\"3\" valign=\"top\">Senger, Upton and Breitenberg</th>\n",
       "      <th>Belt</th>\n",
       "      <td>9509.88</td>\n",
       "    </tr>\n",
       "    <tr>\n",
       "      <th>Shirt</th>\n",
       "      <td>7659.70</td>\n",
       "    </tr>\n",
       "    <tr>\n",
       "      <th>Shoes</th>\n",
       "      <td>12407.88</td>\n",
       "    </tr>\n",
       "    <tr>\n",
       "      <th rowspan=\"3\" valign=\"top\">Volkman, Goyette and Lemke</th>\n",
       "      <th>Belt</th>\n",
       "      <td>4429.01</td>\n",
       "    </tr>\n",
       "    <tr>\n",
       "      <th>Shirt</th>\n",
       "      <td>12791.27</td>\n",
       "    </tr>\n",
       "    <tr>\n",
       "      <th>Shoes</th>\n",
       "      <td>14786.59</td>\n",
       "    </tr>\n",
       "    <tr>\n",
       "      <th rowspan=\"3\" valign=\"top\">Waelchi-Fahey</th>\n",
       "      <th>Belt</th>\n",
       "      <td>8285.72</td>\n",
       "    </tr>\n",
       "    <tr>\n",
       "      <th>Shirt</th>\n",
       "      <td>11689.05</td>\n",
       "    </tr>\n",
       "    <tr>\n",
       "      <th>Shoes</th>\n",
       "      <td>8993.91</td>\n",
       "    </tr>\n",
       "    <tr>\n",
       "      <th rowspan=\"3\" valign=\"top\">Waters-Walker</th>\n",
       "      <th>Belt</th>\n",
       "      <td>5957.24</td>\n",
       "    </tr>\n",
       "    <tr>\n",
       "      <th>Shirt</th>\n",
       "      <td>18633.71</td>\n",
       "    </tr>\n",
       "    <tr>\n",
       "      <th>Shoes</th>\n",
       "      <td>12188.01</td>\n",
       "    </tr>\n",
       "  </tbody>\n",
       "</table>\n",
       "</div>"
      ],
      "text/plain": [
       "                                        ext price\n",
       "name                          category           \n",
       "Berge LLC                     Belt        6033.53\n",
       "                              Shirt       9670.24\n",
       "                              Shoes      14361.10\n",
       "Carroll PLC                   Belt        9359.26\n",
       "                              Shirt      13717.61\n",
       "                              Shoes      12857.44\n",
       "Cole-Eichmann                 Belt        8112.70\n",
       "                              Shirt      14528.01\n",
       "                              Shoes       7794.71\n",
       "Davis, Kshlerin and Reilly    Belt        1604.13\n",
       "                              Shirt       7533.03\n",
       "                              Shoes       9917.60\n",
       "Ernser, Cruickshank and Lind  Belt        5894.38\n",
       "                              Shirt      16944.19\n",
       "                              Shoes       5250.45\n",
       "Gorczany-Hahn                 Belt        3642.48\n",
       "                              Shirt      12576.83\n",
       "                              Shoes       5988.59\n",
       "Hamill-Hackett                Belt        1609.74\n",
       "                              Shirt       8880.04\n",
       "                              Shoes      12944.00\n",
       "Hegmann and Sons              Belt        4909.38\n",
       "                              Shirt      16774.47\n",
       "                              Shoes      13529.87\n",
       "Heidenreich-Bosco             Belt        6262.94\n",
       "                              Shirt       5965.25\n",
       "                              Shoes      13200.10\n",
       "Huel-Haag                     Belt        2219.51\n",
       "                              Shirt      11944.01\n",
       "                              Shoes       6924.36\n",
       "Kerluke, Reilly and Bechtelar Belt        4102.11\n",
       "                              Shirt      12958.23\n",
       "                              Shoes      10329.09\n",
       "Kihn, McClure and Denesik     Belt       10116.90\n",
       "                              Shirt      18956.35\n",
       "                              Shoes       9862.04\n",
       "Kilback-Gerlach               Belt        2863.40\n",
       "                              Shirt       9904.85\n",
       "                              Shoes      14218.95\n",
       "Koelpin PLC                   Belt        5327.96\n",
       "                              Shirt       7908.28\n",
       "                              Shoes      13575.42\n",
       "Kunze Inc                     Belt        4264.59\n",
       "                              Shirt      15638.87\n",
       "                              Shoes      14503.08\n",
       "Kuphal, Zieme and Kub         Belt        2009.69\n",
       "                              Shirt      12101.14\n",
       "                              Shoes      12921.03\n",
       "Senger, Upton and Breitenberg Belt        9509.88\n",
       "                              Shirt       7659.70\n",
       "                              Shoes      12407.88\n",
       "Volkman, Goyette and Lemke    Belt        4429.01\n",
       "                              Shirt      12791.27\n",
       "                              Shoes      14786.59\n",
       "Waelchi-Fahey                 Belt        8285.72\n",
       "                              Shirt      11689.05\n",
       "                              Shoes       8993.91\n",
       "Waters-Walker                 Belt        5957.24\n",
       "                              Shirt      18633.71\n",
       "                              Shoes      12188.01"
      ]
     },
     "execution_count": 84,
     "metadata": {},
     "output_type": "execute_result"
    }
   ],
   "source": [
    "category_group=customers.groupby(['name','category']).sum()\n",
    "category_group"
   ]
  },
  {
   "cell_type": "markdown",
   "metadata": {},
   "source": [
    "The category representation looks good but we need to break it apart to graph it as a stacked bar graph. Unstack can do this for us."
   ]
  },
  {
   "cell_type": "code",
   "execution_count": 86,
   "metadata": {},
   "outputs": [
    {
     "data": {
      "text/html": [
       "<div>\n",
       "<style scoped>\n",
       "    .dataframe tbody tr th:only-of-type {\n",
       "        vertical-align: middle;\n",
       "    }\n",
       "\n",
       "    .dataframe tbody tr th {\n",
       "        vertical-align: top;\n",
       "    }\n",
       "\n",
       "    .dataframe thead tr th {\n",
       "        text-align: left;\n",
       "    }\n",
       "\n",
       "    .dataframe thead tr:last-of-type th {\n",
       "        text-align: right;\n",
       "    }\n",
       "</style>\n",
       "<table border=\"1\" class=\"dataframe\">\n",
       "  <thead>\n",
       "    <tr>\n",
       "      <th></th>\n",
       "      <th colspan=\"3\" halign=\"left\">ext price</th>\n",
       "    </tr>\n",
       "    <tr>\n",
       "      <th>category</th>\n",
       "      <th>Belt</th>\n",
       "      <th>Shirt</th>\n",
       "      <th>Shoes</th>\n",
       "    </tr>\n",
       "    <tr>\n",
       "      <th>name</th>\n",
       "      <th></th>\n",
       "      <th></th>\n",
       "      <th></th>\n",
       "    </tr>\n",
       "  </thead>\n",
       "  <tbody>\n",
       "    <tr>\n",
       "      <th>Berge LLC</th>\n",
       "      <td>6033.53</td>\n",
       "      <td>9670.24</td>\n",
       "      <td>14361.10</td>\n",
       "    </tr>\n",
       "    <tr>\n",
       "      <th>Carroll PLC</th>\n",
       "      <td>9359.26</td>\n",
       "      <td>13717.61</td>\n",
       "      <td>12857.44</td>\n",
       "    </tr>\n",
       "    <tr>\n",
       "      <th>Cole-Eichmann</th>\n",
       "      <td>8112.70</td>\n",
       "      <td>14528.01</td>\n",
       "      <td>7794.71</td>\n",
       "    </tr>\n",
       "    <tr>\n",
       "      <th>Davis, Kshlerin and Reilly</th>\n",
       "      <td>1604.13</td>\n",
       "      <td>7533.03</td>\n",
       "      <td>9917.60</td>\n",
       "    </tr>\n",
       "    <tr>\n",
       "      <th>Ernser, Cruickshank and Lind</th>\n",
       "      <td>5894.38</td>\n",
       "      <td>16944.19</td>\n",
       "      <td>5250.45</td>\n",
       "    </tr>\n",
       "    <tr>\n",
       "      <th>Gorczany-Hahn</th>\n",
       "      <td>3642.48</td>\n",
       "      <td>12576.83</td>\n",
       "      <td>5988.59</td>\n",
       "    </tr>\n",
       "    <tr>\n",
       "      <th>Hamill-Hackett</th>\n",
       "      <td>1609.74</td>\n",
       "      <td>8880.04</td>\n",
       "      <td>12944.00</td>\n",
       "    </tr>\n",
       "    <tr>\n",
       "      <th>Hegmann and Sons</th>\n",
       "      <td>4909.38</td>\n",
       "      <td>16774.47</td>\n",
       "      <td>13529.87</td>\n",
       "    </tr>\n",
       "    <tr>\n",
       "      <th>Heidenreich-Bosco</th>\n",
       "      <td>6262.94</td>\n",
       "      <td>5965.25</td>\n",
       "      <td>13200.10</td>\n",
       "    </tr>\n",
       "    <tr>\n",
       "      <th>Huel-Haag</th>\n",
       "      <td>2219.51</td>\n",
       "      <td>11944.01</td>\n",
       "      <td>6924.36</td>\n",
       "    </tr>\n",
       "    <tr>\n",
       "      <th>Kerluke, Reilly and Bechtelar</th>\n",
       "      <td>4102.11</td>\n",
       "      <td>12958.23</td>\n",
       "      <td>10329.09</td>\n",
       "    </tr>\n",
       "    <tr>\n",
       "      <th>Kihn, McClure and Denesik</th>\n",
       "      <td>10116.90</td>\n",
       "      <td>18956.35</td>\n",
       "      <td>9862.04</td>\n",
       "    </tr>\n",
       "    <tr>\n",
       "      <th>Kilback-Gerlach</th>\n",
       "      <td>2863.40</td>\n",
       "      <td>9904.85</td>\n",
       "      <td>14218.95</td>\n",
       "    </tr>\n",
       "    <tr>\n",
       "      <th>Koelpin PLC</th>\n",
       "      <td>5327.96</td>\n",
       "      <td>7908.28</td>\n",
       "      <td>13575.42</td>\n",
       "    </tr>\n",
       "    <tr>\n",
       "      <th>Kunze Inc</th>\n",
       "      <td>4264.59</td>\n",
       "      <td>15638.87</td>\n",
       "      <td>14503.08</td>\n",
       "    </tr>\n",
       "    <tr>\n",
       "      <th>Kuphal, Zieme and Kub</th>\n",
       "      <td>2009.69</td>\n",
       "      <td>12101.14</td>\n",
       "      <td>12921.03</td>\n",
       "    </tr>\n",
       "    <tr>\n",
       "      <th>Senger, Upton and Breitenberg</th>\n",
       "      <td>9509.88</td>\n",
       "      <td>7659.70</td>\n",
       "      <td>12407.88</td>\n",
       "    </tr>\n",
       "    <tr>\n",
       "      <th>Volkman, Goyette and Lemke</th>\n",
       "      <td>4429.01</td>\n",
       "      <td>12791.27</td>\n",
       "      <td>14786.59</td>\n",
       "    </tr>\n",
       "    <tr>\n",
       "      <th>Waelchi-Fahey</th>\n",
       "      <td>8285.72</td>\n",
       "      <td>11689.05</td>\n",
       "      <td>8993.91</td>\n",
       "    </tr>\n",
       "    <tr>\n",
       "      <th>Waters-Walker</th>\n",
       "      <td>5957.24</td>\n",
       "      <td>18633.71</td>\n",
       "      <td>12188.01</td>\n",
       "    </tr>\n",
       "  </tbody>\n",
       "</table>\n",
       "</div>"
      ],
      "text/plain": [
       "                              ext price                    \n",
       "category                           Belt     Shirt     Shoes\n",
       "name                                                       \n",
       "Berge LLC                       6033.53   9670.24  14361.10\n",
       "Carroll PLC                     9359.26  13717.61  12857.44\n",
       "Cole-Eichmann                   8112.70  14528.01   7794.71\n",
       "Davis, Kshlerin and Reilly      1604.13   7533.03   9917.60\n",
       "Ernser, Cruickshank and Lind    5894.38  16944.19   5250.45\n",
       "Gorczany-Hahn                   3642.48  12576.83   5988.59\n",
       "Hamill-Hackett                  1609.74   8880.04  12944.00\n",
       "Hegmann and Sons                4909.38  16774.47  13529.87\n",
       "Heidenreich-Bosco               6262.94   5965.25  13200.10\n",
       "Huel-Haag                       2219.51  11944.01   6924.36\n",
       "Kerluke, Reilly and Bechtelar   4102.11  12958.23  10329.09\n",
       "Kihn, McClure and Denesik      10116.90  18956.35   9862.04\n",
       "Kilback-Gerlach                 2863.40   9904.85  14218.95\n",
       "Koelpin PLC                     5327.96   7908.28  13575.42\n",
       "Kunze Inc                       4264.59  15638.87  14503.08\n",
       "Kuphal, Zieme and Kub           2009.69  12101.14  12921.03\n",
       "Senger, Upton and Breitenberg   9509.88   7659.70  12407.88\n",
       "Volkman, Goyette and Lemke      4429.01  12791.27  14786.59\n",
       "Waelchi-Fahey                   8285.72  11689.05   8993.91\n",
       "Waters-Walker                   5957.24  18633.71  12188.01"
      ]
     },
     "execution_count": 86,
     "metadata": {},
     "output_type": "execute_result"
    }
   ],
   "source": [
    "category_group.unstack()"
   ]
  },
  {
   "cell_type": "markdown",
   "metadata": {},
   "source": [
    "Now plot it."
   ]
  },
  {
   "cell_type": "code",
   "execution_count": 204,
   "metadata": {},
   "outputs": [
    {
     "data": {
      "text/plain": [
       "Text(0, 0.5, 'Sales')"
      ]
     },
     "execution_count": 204,
     "metadata": {},
     "output_type": "execute_result"
    },
    {
     "data": {
      "image/png": "[encoded data removed]",
      "text/plain": [
       "<Figure size 720x432 with 1 Axes>"
      ]
     },
     "metadata": {
      "needs_background": "light"
     },
     "output_type": "display_data"
    }
   ],
   "source": [
    "my_plot = category_group.unstack().plot(kind='bar',stacked=True,title=\"Total Sales by Customer\", figsize=(10,6))\n",
    "my_plot.set_xlabel(\"Customers\")\n",
    "my_plot.set_ylabel(\"Sales\")"
   ]
  },
  {
   "cell_type": "markdown",
   "metadata": {},
   "source": [
    "Now clean some of this up a little bit.\n",
    "We can specify the figure size and customize the legend."
   ]
  },
  {
   "cell_type": "code",
   "execution_count": 207,
   "metadata": {},
   "outputs": [
    {
     "data": {
      "text/plain": [
       "<matplotlib.legend.Legend at 0x2a2082a2908>"
      ]
     },
     "execution_count": 207,
     "metadata": {},
     "output_type": "execute_result"
    },
    {
     "data": {
      "image/png": "[encoded data removed]",
      "text/plain": [
       "<Figure size 864x504 with 1 Axes>"
      ]
     },
     "metadata": {
      "needs_background": "light"
     },
     "output_type": "display_data"
    }
   ],
   "source": [
    "my_plot = category_group.unstack().plot(kind='bar',stacked=True,title=\"Total Sales by Customer\",figsize=(12, 7))\n",
    "my_plot.set_xlabel(\"Customers\")\n",
    "my_plot.set_ylabel(\"Sales\")\n",
    "my_plot.legend([\"Total\",\"Belts\",\"Shirts\",\"Shoes\"], loc=9,ncol=4)"
   ]
  },
  {
   "cell_type": "code",
   "execution_count": 209,
   "metadata": {},
   "outputs": [],
   "source": [
    "total_sale = my_plot.get_figure()\n",
    "total_sale.savefig(\"../images/sample_graphic/total_sale_by_customers.png\")"
   ]
  },
  {
   "cell_type": "markdown",
   "metadata": {},
   "source": [
    "Now that we know who the biggest customers are and how they purchase products, we might want to look at purchase patterns in more detail.\n",
    "\n",
    "Let's take another look at the data and try to see how large the individual purchases are. A histogram allows us to group purchases together so we can see how big the customer transactions are."
   ]
  },
  {
   "cell_type": "code",
   "execution_count": 182,
   "metadata": {},
   "outputs": [
    {
     "data": {
      "text/html": [
       "<div>\n",
       "<style scoped>\n",
       "    .dataframe tbody tr th:only-of-type {\n",
       "        vertical-align: middle;\n",
       "    }\n",
       "\n",
       "    .dataframe tbody tr th {\n",
       "        vertical-align: top;\n",
       "    }\n",
       "\n",
       "    .dataframe thead th {\n",
       "        text-align: right;\n",
       "    }\n",
       "</style>\n",
       "<table border=\"1\" class=\"dataframe\">\n",
       "  <thead>\n",
       "    <tr style=\"text-align: right;\">\n",
       "      <th></th>\n",
       "      <th>ext price</th>\n",
       "      <th>date</th>\n",
       "    </tr>\n",
       "  </thead>\n",
       "  <tbody>\n",
       "    <tr>\n",
       "      <th>0</th>\n",
       "      <td>578.24</td>\n",
       "      <td>2014-09-27 07:13:03</td>\n",
       "    </tr>\n",
       "    <tr>\n",
       "      <th>1</th>\n",
       "      <td>1018.78</td>\n",
       "      <td>2014-07-29 02:10:44</td>\n",
       "    </tr>\n",
       "    <tr>\n",
       "      <th>2</th>\n",
       "      <td>289.92</td>\n",
       "      <td>2014-03-01 10:51:24</td>\n",
       "    </tr>\n",
       "    <tr>\n",
       "      <th>3</th>\n",
       "      <td>413.40</td>\n",
       "      <td>2013-11-17 20:41:11</td>\n",
       "    </tr>\n",
       "    <tr>\n",
       "      <th>4</th>\n",
       "      <td>1793.52</td>\n",
       "      <td>2014-01-03 08:14:27</td>\n",
       "    </tr>\n",
       "  </tbody>\n",
       "</table>\n",
       "</div>"
      ],
      "text/plain": [
       "   ext price                date\n",
       "0     578.24 2014-09-27 07:13:03\n",
       "1    1018.78 2014-07-29 02:10:44\n",
       "2     289.92 2014-03-01 10:51:24\n",
       "3     413.40 2013-11-17 20:41:11\n",
       "4    1793.52 2014-01-03 08:14:27"
      ]
     },
     "execution_count": 182,
     "metadata": {},
     "output_type": "execute_result"
    }
   ],
   "source": [
    "purchase_patterns = sales[['ext price','date']]\n",
    "purchase_patterns.head()"
   ]
  },
  {
   "cell_type": "code",
   "execution_count": 18,
   "metadata": {},
   "outputs": [
    {
     "data": {
      "text/plain": [
       "<matplotlib.text.Text at 0x7fc74b5c3128>"
      ]
     },
     "execution_count": 18,
     "metadata": {},
     "output_type": "execute_result"
    },
    {
     "data": {
      "image/png": "[encoded data removed]",
      "text/plain": [
       "<matplotlib.figure.Figure at 0x7fc74b84db70>"
      ]
     },
     "metadata": {},
     "output_type": "display_data"
    }
   ],
   "source": [
    "purchase_plot = purchase_patterns['ext price'].hist(bins=20)\n",
    "purchase_plot.set_title(\"Purchase Patterns\")\n",
    "purchase_plot.set_xlabel(\"Order Amount($)\")\n",
    "purchase_plot.set_ylabel(\"Number of orders\")"
   ]
  },
  {
   "cell_type": "markdown",
   "metadata": {},
   "source": [
    "After looking at this group\n",
    "\n",
    "We can look at purchase patterns over time. We can see that most of our transactions are less than $500 and only a very few are about $1500."
   ]
  },
  {
   "cell_type": "markdown",
   "metadata": {},
   "source": [
    "Another interesting way to look at the data would be by sales over time. Do we have certain months where we are busier than others?\n",
    "\n",
    "Let's get the data down to order size and date."
   ]
  },
  {
   "cell_type": "code",
   "execution_count": 278,
   "metadata": {},
   "outputs": [
    {
     "data": {
      "text/html": [
       "<div>\n",
       "<style scoped>\n",
       "    .dataframe tbody tr th:only-of-type {\n",
       "        vertical-align: middle;\n",
       "    }\n",
       "\n",
       "    .dataframe tbody tr th {\n",
       "        vertical-align: top;\n",
       "    }\n",
       "\n",
       "    .dataframe thead th {\n",
       "        text-align: right;\n",
       "    }\n",
       "</style>\n",
       "<table border=\"1\" class=\"dataframe\">\n",
       "  <thead>\n",
       "    <tr style=\"text-align: right;\">\n",
       "      <th></th>\n",
       "      <th>ext price</th>\n",
       "      <th>date</th>\n",
       "    </tr>\n",
       "  </thead>\n",
       "  <tbody>\n",
       "    <tr>\n",
       "      <th>0</th>\n",
       "      <td>578.24</td>\n",
       "      <td>2014-09-27 07:13:03</td>\n",
       "    </tr>\n",
       "    <tr>\n",
       "      <th>1</th>\n",
       "      <td>1018.78</td>\n",
       "      <td>2014-07-29 02:10:44</td>\n",
       "    </tr>\n",
       "    <tr>\n",
       "      <th>2</th>\n",
       "      <td>289.92</td>\n",
       "      <td>2014-03-01 10:51:24</td>\n",
       "    </tr>\n",
       "    <tr>\n",
       "      <th>3</th>\n",
       "      <td>413.40</td>\n",
       "      <td>2013-11-17 20:41:11</td>\n",
       "    </tr>\n",
       "    <tr>\n",
       "      <th>4</th>\n",
       "      <td>1793.52</td>\n",
       "      <td>2014-01-03 08:14:27</td>\n",
       "    </tr>\n",
       "  </tbody>\n",
       "</table>\n",
       "</div>"
      ],
      "text/plain": [
       "   ext price                date\n",
       "0     578.24 2014-09-27 07:13:03\n",
       "1    1018.78 2014-07-29 02:10:44\n",
       "2     289.92 2014-03-01 10:51:24\n",
       "3     413.40 2013-11-17 20:41:11\n",
       "4    1793.52 2014-01-03 08:14:27"
      ]
     },
     "execution_count": 278,
     "metadata": {},
     "output_type": "execute_result"
    }
   ],
   "source": [
    "purchase_patterns = sales[['ext price','date']]\n",
    "purchase_patterns.head()"
   ]
  },
  {
   "cell_type": "markdown",
   "metadata": {},
   "source": [
    "If we want to analyze the data by date, we need to set the date column as the index."
   ]
  },
  {
   "cell_type": "code",
   "execution_count": 279,
   "metadata": {},
   "outputs": [
    {
     "data": {
      "text/html": [
       "<div>\n",
       "<style scoped>\n",
       "    .dataframe tbody tr th:only-of-type {\n",
       "        vertical-align: middle;\n",
       "    }\n",
       "\n",
       "    .dataframe tbody tr th {\n",
       "        vertical-align: top;\n",
       "    }\n",
       "\n",
       "    .dataframe thead th {\n",
       "        text-align: right;\n",
       "    }\n",
       "</style>\n",
       "<table border=\"1\" class=\"dataframe\">\n",
       "  <thead>\n",
       "    <tr style=\"text-align: right;\">\n",
       "      <th></th>\n",
       "      <th>ext price</th>\n",
       "    </tr>\n",
       "    <tr>\n",
       "      <th>date</th>\n",
       "      <th></th>\n",
       "    </tr>\n",
       "  </thead>\n",
       "  <tbody>\n",
       "    <tr>\n",
       "      <th>2014-09-27 07:13:03</th>\n",
       "      <td>578.24</td>\n",
       "    </tr>\n",
       "    <tr>\n",
       "      <th>2014-07-29 02:10:44</th>\n",
       "      <td>1018.78</td>\n",
       "    </tr>\n",
       "    <tr>\n",
       "      <th>2014-03-01 10:51:24</th>\n",
       "      <td>289.92</td>\n",
       "    </tr>\n",
       "    <tr>\n",
       "      <th>2013-11-17 20:41:11</th>\n",
       "      <td>413.40</td>\n",
       "    </tr>\n",
       "    <tr>\n",
       "      <th>2014-01-03 08:14:27</th>\n",
       "      <td>1793.52</td>\n",
       "    </tr>\n",
       "  </tbody>\n",
       "</table>\n",
       "</div>"
      ],
      "text/plain": [
       "                     ext price\n",
       "date                          \n",
       "2014-09-27 07:13:03     578.24\n",
       "2014-07-29 02:10:44    1018.78\n",
       "2014-03-01 10:51:24     289.92\n",
       "2013-11-17 20:41:11     413.40\n",
       "2014-01-03 08:14:27    1793.52"
      ]
     },
     "execution_count": 279,
     "metadata": {},
     "output_type": "execute_result"
    }
   ],
   "source": [
    "purchase_patterns = purchase_patterns.set_index('date')\n",
    "purchase_patterns.head()"
   ]
  },
  {
   "cell_type": "markdown",
   "metadata": {},
   "source": [
    "One of the really cool things that pandas allows us to do is resample the data. If we want to look at the data by month, we can easily resample and sum it all up."
   ]
  },
  {
   "cell_type": "markdown",
   "metadata": {},
   "source": [
    "purchase_patterns.resample('M',how=sum)"
   ]
  },
  {
   "cell_type": "markdown",
   "metadata": {},
   "source": [
    "Plotting the data is now very easy"
   ]
  },
  {
   "cell_type": "code",
   "execution_count": 284,
   "metadata": {},
   "outputs": [
    {
     "data": {
      "image/png": "[encoded data removed]",
      "text/plain": [
       "<Figure size 864x432 with 1 Axes>"
      ]
     },
     "metadata": {
      "needs_background": "light"
     },
     "output_type": "display_data"
    }
   ],
   "source": [
    "purchase_plot = purchase_patterns.resample('M').sum().plot(title=\"Total Sales by Month\", figsize = (12, 6), legend=None)"
   ]
  },
  {
   "cell_type": "markdown",
   "metadata": {},
   "source": [
    "December is our peak month and April is the slowest.\n",
    "\n",
    "Let's say we really like this plot and want to save it somewhere for a presentation."
   ]
  },
  {
   "cell_type": "code",
   "execution_count": 201,
   "metadata": {},
   "outputs": [],
   "source": [
    "fig = purchase_plot.get_figure()\n",
    "fig.savefig(\"../images/sample_graphic/total-sales.png\")"
   ]
  },
  {
   "cell_type": "markdown",
   "metadata": {},
   "source": [
    "Queries category"
   ]
  },
  {
   "cell_type": "code",
   "execution_count": 230,
   "metadata": {},
   "outputs": [
    {
     "data": {
      "text/html": [
       "<div>\n",
       "<style scoped>\n",
       "    .dataframe tbody tr th:only-of-type {\n",
       "        vertical-align: middle;\n",
       "    }\n",
       "\n",
       "    .dataframe tbody tr th {\n",
       "        vertical-align: top;\n",
       "    }\n",
       "\n",
       "    .dataframe thead th {\n",
       "        text-align: right;\n",
       "    }\n",
       "</style>\n",
       "<table border=\"1\" class=\"dataframe\">\n",
       "  <thead>\n",
       "    <tr style=\"text-align: right;\">\n",
       "      <th></th>\n",
       "      <th>quantity</th>\n",
       "    </tr>\n",
       "    <tr>\n",
       "      <th>category</th>\n",
       "      <th></th>\n",
       "    </tr>\n",
       "  </thead>\n",
       "  <tbody>\n",
       "    <tr>\n",
       "      <th>Belt</th>\n",
       "      <td>2020</td>\n",
       "    </tr>\n",
       "    <tr>\n",
       "      <th>Shirt</th>\n",
       "      <td>4254</td>\n",
       "    </tr>\n",
       "    <tr>\n",
       "      <th>Shoes</th>\n",
       "      <td>4054</td>\n",
       "    </tr>\n",
       "  </tbody>\n",
       "</table>\n",
       "</div>"
      ],
      "text/plain": [
       "          quantity\n",
       "category          \n",
       "Belt          2020\n",
       "Shirt         4254\n",
       "Shoes         4054"
      ]
     },
     "execution_count": 230,
     "metadata": {},
     "output_type": "execute_result"
    }
   ],
   "source": [
    "cat_by_qty = sales[['category', 'quantity']].groupby(['category']).sum()\n",
    "cat_by_qty"
   ]
  },
  {
   "cell_type": "code",
   "execution_count": 233,
   "metadata": {},
   "outputs": [
    {
     "data": {
      "image/png": "[encoded data removed]",
      "text/plain": [
       "<Figure size 720x432 with 1 Axes>"
      ]
     },
     "metadata": {
      "needs_background": "light"
     },
     "output_type": "display_data"
    }
   ],
   "source": [
    "cat_plot = cat_by_qty.plot(kind = 'bar', figsize = (10, 6))"
   ]
  },
  {
   "cell_type": "code",
   "execution_count": 239,
   "metadata": {},
   "outputs": [
    {
     "data": {
      "image/png": "[encoded data removed]",
      "text/plain": [
       "<Figure size 720x432 with 1 Axes>"
      ]
     },
     "metadata": {
      "needs_background": "light"
     },
     "output_type": "display_data"
    }
   ],
   "source": [
    "cat_group = sales[['category', 'quantity', 'unit price', 'ext price']].groupby(['category']).sum()\n",
    "cat_group_plot = cat_group.plot.bar(figsize = (10, 6), title = 'Category goup by quantity, unit price and ext price')"
   ]
  },
  {
   "cell_type": "markdown",
   "metadata": {},
   "source": [
    "#### Tax rate"
   ]
  },
  {
   "cell_type": "code",
   "execution_count": 242,
   "metadata": {},
   "outputs": [
    {
     "data": {
      "text/plain": [
       "20058.880780000003"
      ]
     },
     "execution_count": 242,
     "metadata": {},
     "output_type": "execute_result"
    }
   ],
   "source": [
    "## Total tax\n",
    "total_tax = sales['Tax amount'].sum()\n",
    "total_tax"
   ]
  },
  {
   "cell_type": "code",
   "execution_count": 257,
   "metadata": {},
   "outputs": [
    {
     "data": {
      "text/html": [
       "<div>\n",
       "<style scoped>\n",
       "    .dataframe tbody tr th:only-of-type {\n",
       "        vertical-align: middle;\n",
       "    }\n",
       "\n",
       "    .dataframe tbody tr th {\n",
       "        vertical-align: top;\n",
       "    }\n",
       "\n",
       "    .dataframe thead th {\n",
       "        text-align: right;\n",
       "    }\n",
       "</style>\n",
       "<table border=\"1\" class=\"dataframe\">\n",
       "  <thead>\n",
       "    <tr style=\"text-align: right;\">\n",
       "      <th></th>\n",
       "      <th></th>\n",
       "      <th>quantity</th>\n",
       "    </tr>\n",
       "    <tr>\n",
       "      <th>Tax rate</th>\n",
       "      <th>category</th>\n",
       "      <th></th>\n",
       "    </tr>\n",
       "  </thead>\n",
       "  <tbody>\n",
       "    <tr>\n",
       "      <th rowspan=\"3\" valign=\"top\">0.003</th>\n",
       "      <th>Belt</th>\n",
       "      <td>35</td>\n",
       "    </tr>\n",
       "    <tr>\n",
       "      <th>Shirt</th>\n",
       "      <td>82</td>\n",
       "    </tr>\n",
       "    <tr>\n",
       "      <th>Shoes</th>\n",
       "      <td>75</td>\n",
       "    </tr>\n",
       "    <tr>\n",
       "      <th rowspan=\"3\" valign=\"top\">0.011</th>\n",
       "      <th>Belt</th>\n",
       "      <td>105</td>\n",
       "    </tr>\n",
       "    <tr>\n",
       "      <th>Shirt</th>\n",
       "      <td>250</td>\n",
       "    </tr>\n",
       "    <tr>\n",
       "      <th>Shoes</th>\n",
       "      <td>201</td>\n",
       "    </tr>\n",
       "    <tr>\n",
       "      <th rowspan=\"3\" valign=\"top\">0.015</th>\n",
       "      <th>Belt</th>\n",
       "      <td>585</td>\n",
       "    </tr>\n",
       "    <tr>\n",
       "      <th>Shirt</th>\n",
       "      <td>1082</td>\n",
       "    </tr>\n",
       "    <tr>\n",
       "      <th>Shoes</th>\n",
       "      <td>934</td>\n",
       "    </tr>\n",
       "    <tr>\n",
       "      <th rowspan=\"3\" valign=\"top\">0.025</th>\n",
       "      <th>Belt</th>\n",
       "      <td>217</td>\n",
       "    </tr>\n",
       "    <tr>\n",
       "      <th>Shirt</th>\n",
       "      <td>418</td>\n",
       "    </tr>\n",
       "    <tr>\n",
       "      <th>Shoes</th>\n",
       "      <td>434</td>\n",
       "    </tr>\n",
       "    <tr>\n",
       "      <th rowspan=\"3\" valign=\"top\">0.030</th>\n",
       "      <th>Belt</th>\n",
       "      <td>664</td>\n",
       "    </tr>\n",
       "    <tr>\n",
       "      <th>Shirt</th>\n",
       "      <td>1355</td>\n",
       "    </tr>\n",
       "    <tr>\n",
       "      <th>Shoes</th>\n",
       "      <td>1405</td>\n",
       "    </tr>\n",
       "    <tr>\n",
       "      <th rowspan=\"3\" valign=\"top\">0.070</th>\n",
       "      <th>Belt</th>\n",
       "      <td>178</td>\n",
       "    </tr>\n",
       "    <tr>\n",
       "      <th>Shirt</th>\n",
       "      <td>638</td>\n",
       "    </tr>\n",
       "    <tr>\n",
       "      <th>Shoes</th>\n",
       "      <td>441</td>\n",
       "    </tr>\n",
       "    <tr>\n",
       "      <th rowspan=\"3\" valign=\"top\">0.075</th>\n",
       "      <th>Belt</th>\n",
       "      <td>221</td>\n",
       "    </tr>\n",
       "    <tr>\n",
       "      <th>Shirt</th>\n",
       "      <td>383</td>\n",
       "    </tr>\n",
       "    <tr>\n",
       "      <th>Shoes</th>\n",
       "      <td>505</td>\n",
       "    </tr>\n",
       "    <tr>\n",
       "      <th rowspan=\"3\" valign=\"top\">0.150</th>\n",
       "      <th>Belt</th>\n",
       "      <td>15</td>\n",
       "    </tr>\n",
       "    <tr>\n",
       "      <th>Shirt</th>\n",
       "      <td>46</td>\n",
       "    </tr>\n",
       "    <tr>\n",
       "      <th>Shoes</th>\n",
       "      <td>59</td>\n",
       "    </tr>\n",
       "  </tbody>\n",
       "</table>\n",
       "</div>"
      ],
      "text/plain": [
       "                   quantity\n",
       "Tax rate category          \n",
       "0.003    Belt            35\n",
       "         Shirt           82\n",
       "         Shoes           75\n",
       "0.011    Belt           105\n",
       "         Shirt          250\n",
       "         Shoes          201\n",
       "0.015    Belt           585\n",
       "         Shirt         1082\n",
       "         Shoes          934\n",
       "0.025    Belt           217\n",
       "         Shirt          418\n",
       "         Shoes          434\n",
       "0.030    Belt           664\n",
       "         Shirt         1355\n",
       "         Shoes         1405\n",
       "0.070    Belt           178\n",
       "         Shirt          638\n",
       "         Shoes          441\n",
       "0.075    Belt           221\n",
       "         Shirt          383\n",
       "         Shoes          505\n",
       "0.150    Belt            15\n",
       "         Shirt           46\n",
       "         Shoes           59"
      ]
     },
     "execution_count": 257,
     "metadata": {},
     "output_type": "execute_result"
    }
   ],
   "source": [
    "## Tax rate\n",
    "tax_rate = sales[['Tax rate', 'category', 'quantity']].groupby(['Tax rate', 'category']).sum()\n",
    "tax_rate"
   ]
  },
  {
   "cell_type": "code",
   "execution_count": 258,
   "metadata": {},
   "outputs": [
    {
     "data": {
      "text/html": [
       "<div>\n",
       "<style scoped>\n",
       "    .dataframe tbody tr th:only-of-type {\n",
       "        vertical-align: middle;\n",
       "    }\n",
       "\n",
       "    .dataframe tbody tr th {\n",
       "        vertical-align: top;\n",
       "    }\n",
       "\n",
       "    .dataframe thead th {\n",
       "        text-align: right;\n",
       "    }\n",
       "</style>\n",
       "<table border=\"1\" class=\"dataframe\">\n",
       "  <thead>\n",
       "    <tr style=\"text-align: right;\">\n",
       "      <th></th>\n",
       "      <th>Tax amount</th>\n",
       "    </tr>\n",
       "    <tr>\n",
       "      <th>Tax rate</th>\n",
       "      <th></th>\n",
       "    </tr>\n",
       "  </thead>\n",
       "  <tbody>\n",
       "    <tr>\n",
       "      <th>0.003</th>\n",
       "      <td>36.62691</td>\n",
       "    </tr>\n",
       "    <tr>\n",
       "      <th>0.011</th>\n",
       "      <td>324.63222</td>\n",
       "    </tr>\n",
       "    <tr>\n",
       "      <th>0.015</th>\n",
       "      <td>2211.53820</td>\n",
       "    </tr>\n",
       "    <tr>\n",
       "      <th>0.025</th>\n",
       "      <td>1646.97550</td>\n",
       "    </tr>\n",
       "    <tr>\n",
       "      <th>0.030</th>\n",
       "      <td>5758.06950</td>\n",
       "    </tr>\n",
       "    <tr>\n",
       "      <th>0.070</th>\n",
       "      <td>4676.75670</td>\n",
       "    </tr>\n",
       "    <tr>\n",
       "      <th>0.075</th>\n",
       "      <td>4504.95075</td>\n",
       "    </tr>\n",
       "    <tr>\n",
       "      <th>0.150</th>\n",
       "      <td>899.33100</td>\n",
       "    </tr>\n",
       "  </tbody>\n",
       "</table>\n",
       "</div>"
      ],
      "text/plain": [
       "          Tax amount\n",
       "Tax rate            \n",
       "0.003       36.62691\n",
       "0.011      324.63222\n",
       "0.015     2211.53820\n",
       "0.025     1646.97550\n",
       "0.030     5758.06950\n",
       "0.070     4676.75670\n",
       "0.075     4504.95075\n",
       "0.150      899.33100"
      ]
     },
     "execution_count": 258,
     "metadata": {},
     "output_type": "execute_result"
    }
   ],
   "source": [
    "tax_rate_by_amount = sales[['Tax rate', 'Tax amount']].groupby(['Tax rate']).sum()\n",
    "tax_rate_by_amount"
   ]
  },
  {
   "cell_type": "code",
   "execution_count": 260,
   "metadata": {},
   "outputs": [
    {
     "data": {
      "text/plain": [
       "56179.63"
      ]
     },
     "execution_count": 260,
     "metadata": {},
     "output_type": "execute_result"
    }
   ],
   "source": [
    "# Unit price\n",
    "sales['unit price'].sum()"
   ]
  },
  {
   "cell_type": "code",
   "execution_count": 268,
   "metadata": {},
   "outputs": [
    {
     "data": {
      "text/plain": [
       "579843.9000000001"
      ]
     },
     "execution_count": 268,
     "metadata": {},
     "output_type": "execute_result"
    }
   ],
   "source": [
    "# Ext price\n",
    "ext = sales['ext price'].sum()\n",
    "ext"
   ]
  },
  {
   "cell_type": "code",
   "execution_count": 269,
   "metadata": {},
   "outputs": [
    {
     "data": {
      "text/plain": [
       "20058.880780000003"
      ]
     },
     "execution_count": 269,
     "metadata": {},
     "output_type": "execute_result"
    }
   ],
   "source": [
    "# Tax Aount\n",
    "amount = sales['Tax amount'].sum()\n",
    "amount"
   ]
  },
  {
   "cell_type": "code",
   "execution_count": 271,
   "metadata": {},
   "outputs": [
    {
     "data": {
      "text/plain": [
       "559785.0192200001"
      ]
     },
     "execution_count": 271,
     "metadata": {},
     "output_type": "execute_result"
    }
   ],
   "source": [
    "# Profit\n",
    "profit = ext - amount\n",
    "profit"
   ]
  },
  {
   "cell_type": "code",
   "execution_count": 308,
   "metadata": {},
   "outputs": [
    {
     "data": {
      "text/plain": [
       "0      9\n",
       "192    8\n",
       "228    7\n",
       "256    4\n",
       "Name: date, dtype: int64"
      ]
     },
     "execution_count": 308,
     "metadata": {},
     "output_type": "execute_result"
    }
   ],
   "source": [
    "year = sales[(sales.name == 'Carroll PLC')& (sales.sku == 'QN-82852')].date.dt.month\n",
    "year"
   ]
  },
  {
   "cell_type": "code",
   "execution_count": 336,
   "metadata": {},
   "outputs": [
    {
     "data": {
      "text/html": [
       "<div>\n",
       "<style scoped>\n",
       "    .dataframe tbody tr th:only-of-type {\n",
       "        vertical-align: middle;\n",
       "    }\n",
       "\n",
       "    .dataframe tbody tr th {\n",
       "        vertical-align: top;\n",
       "    }\n",
       "\n",
       "    .dataframe thead th {\n",
       "        text-align: right;\n",
       "    }\n",
       "</style>\n",
       "<table border=\"1\" class=\"dataframe\">\n",
       "  <thead>\n",
       "    <tr style=\"text-align: right;\">\n",
       "      <th></th>\n",
       "      <th></th>\n",
       "      <th>quantity</th>\n",
       "      <th>unit price</th>\n",
       "      <th>ext price</th>\n",
       "      <th>Tax amount</th>\n",
       "    </tr>\n",
       "    <tr>\n",
       "      <th>date</th>\n",
       "      <th>date</th>\n",
       "      <th></th>\n",
       "      <th></th>\n",
       "      <th></th>\n",
       "      <th></th>\n",
       "    </tr>\n",
       "  </thead>\n",
       "  <tbody>\n",
       "    <tr>\n",
       "      <th rowspan=\"3\" valign=\"top\">2013</th>\n",
       "      <th>10</th>\n",
       "      <td>254</td>\n",
       "      <td>1548.63</td>\n",
       "      <td>14085.27</td>\n",
       "      <td>421.79586</td>\n",
       "    </tr>\n",
       "    <tr>\n",
       "      <th>11</th>\n",
       "      <td>777</td>\n",
       "      <td>4769.77</td>\n",
       "      <td>44932.78</td>\n",
       "      <td>1486.62848</td>\n",
       "    </tr>\n",
       "    <tr>\n",
       "      <th>12</th>\n",
       "      <td>1086</td>\n",
       "      <td>5668.96</td>\n",
       "      <td>57752.23</td>\n",
       "      <td>2123.45229</td>\n",
       "    </tr>\n",
       "    <tr>\n",
       "      <th rowspan=\"10\" valign=\"top\">2014</th>\n",
       "      <th>1</th>\n",
       "      <td>972</td>\n",
       "      <td>5179.50</td>\n",
       "      <td>53161.35</td>\n",
       "      <td>1850.57939</td>\n",
       "    </tr>\n",
       "    <tr>\n",
       "      <th>2</th>\n",
       "      <td>922</td>\n",
       "      <td>4660.86</td>\n",
       "      <td>51783.56</td>\n",
       "      <td>2063.79859</td>\n",
       "    </tr>\n",
       "    <tr>\n",
       "      <th>3</th>\n",
       "      <td>870</td>\n",
       "      <td>4575.74</td>\n",
       "      <td>44991.85</td>\n",
       "      <td>1632.08918</td>\n",
       "    </tr>\n",
       "    <tr>\n",
       "      <th>4</th>\n",
       "      <td>650</td>\n",
       "      <td>3753.34</td>\n",
       "      <td>34098.05</td>\n",
       "      <td>1260.86326</td>\n",
       "    </tr>\n",
       "    <tr>\n",
       "      <th>5</th>\n",
       "      <td>908</td>\n",
       "      <td>4551.16</td>\n",
       "      <td>50001.02</td>\n",
       "      <td>1412.40316</td>\n",
       "    </tr>\n",
       "    <tr>\n",
       "      <th>6</th>\n",
       "      <td>644</td>\n",
       "      <td>3764.61</td>\n",
       "      <td>37477.65</td>\n",
       "      <td>1280.29682</td>\n",
       "    </tr>\n",
       "    <tr>\n",
       "      <th>7</th>\n",
       "      <td>733</td>\n",
       "      <td>3599.31</td>\n",
       "      <td>41686.71</td>\n",
       "      <td>1483.96844</td>\n",
       "    </tr>\n",
       "    <tr>\n",
       "      <th>8</th>\n",
       "      <td>877</td>\n",
       "      <td>5348.67</td>\n",
       "      <td>55497.09</td>\n",
       "      <td>1869.64523</td>\n",
       "    </tr>\n",
       "    <tr>\n",
       "      <th>9</th>\n",
       "      <td>1033</td>\n",
       "      <td>5361.93</td>\n",
       "      <td>57107.51</td>\n",
       "      <td>1950.63560</td>\n",
       "    </tr>\n",
       "    <tr>\n",
       "      <th>10</th>\n",
       "      <td>602</td>\n",
       "      <td>3397.15</td>\n",
       "      <td>37268.83</td>\n",
       "      <td>1222.72448</td>\n",
       "    </tr>\n",
       "  </tbody>\n",
       "</table>\n",
       "</div>"
      ],
      "text/plain": [
       "           quantity  unit price  ext price  Tax amount\n",
       "date date                                             \n",
       "2013 10         254     1548.63   14085.27   421.79586\n",
       "     11         777     4769.77   44932.78  1486.62848\n",
       "     12        1086     5668.96   57752.23  2123.45229\n",
       "2014 1          972     5179.50   53161.35  1850.57939\n",
       "     2          922     4660.86   51783.56  2063.79859\n",
       "     3          870     4575.74   44991.85  1632.08918\n",
       "     4          650     3753.34   34098.05  1260.86326\n",
       "     5          908     4551.16   50001.02  1412.40316\n",
       "     6          644     3764.61   37477.65  1280.29682\n",
       "     7          733     3599.31   41686.71  1483.96844\n",
       "     8          877     5348.67   55497.09  1869.64523\n",
       "     9         1033     5361.93   57107.51  1950.63560\n",
       "     10         602     3397.15   37268.83  1222.72448"
      ]
     },
     "execution_count": 336,
     "metadata": {},
     "output_type": "execute_result"
    }
   ],
   "source": [
    "profit_by_date = sales[['quantity', 'unit price', 'ext price', 'Tax amount']].groupby([sales.date.dt.year, sales.date.dt.month]).sum()\n",
    "profit_by_date"
   ]
  },
  {
   "cell_type": "code",
   "execution_count": 348,
   "metadata": {},
   "outputs": [
    {
     "data": {
      "text/html": [
       "<div>\n",
       "<style scoped>\n",
       "    .dataframe tbody tr th:only-of-type {\n",
       "        vertical-align: middle;\n",
       "    }\n",
       "\n",
       "    .dataframe tbody tr th {\n",
       "        vertical-align: top;\n",
       "    }\n",
       "\n",
       "    .dataframe thead th {\n",
       "        text-align: right;\n",
       "    }\n",
       "</style>\n",
       "<table border=\"1\" class=\"dataframe\">\n",
       "  <thead>\n",
       "    <tr style=\"text-align: right;\">\n",
       "      <th></th>\n",
       "      <th>ext price</th>\n",
       "    </tr>\n",
       "    <tr>\n",
       "      <th>name</th>\n",
       "      <th></th>\n",
       "    </tr>\n",
       "  </thead>\n",
       "  <tbody>\n",
       "    <tr>\n",
       "      <th>Kihn, McClure and Denesik</th>\n",
       "      <td>38935.29</td>\n",
       "    </tr>\n",
       "    <tr>\n",
       "      <th>Waters-Walker</th>\n",
       "      <td>36778.96</td>\n",
       "    </tr>\n",
       "    <tr>\n",
       "      <th>Carroll PLC</th>\n",
       "      <td>35934.31</td>\n",
       "    </tr>\n",
       "    <tr>\n",
       "      <th>Hegmann and Sons</th>\n",
       "      <td>35213.72</td>\n",
       "    </tr>\n",
       "    <tr>\n",
       "      <th>Kunze Inc</th>\n",
       "      <td>34406.54</td>\n",
       "    </tr>\n",
       "  </tbody>\n",
       "</table>\n",
       "</div>"
      ],
      "text/plain": [
       "                           ext price\n",
       "name                                \n",
       "Kihn, McClure and Denesik   38935.29\n",
       "Waters-Walker               36778.96\n",
       "Carroll PLC                 35934.31\n",
       "Hegmann and Sons            35213.72\n",
       "Kunze Inc                   34406.54"
      ]
     },
     "execution_count": 348,
     "metadata": {},
     "output_type": "execute_result"
    }
   ],
   "source": [
    "# Best customer\n",
    "sales[['name', 'ext price']].groupby(['name']).sum().sort_values(['ext price'], ascending=False).head()"
   ]
  }
 ],
 "metadata": {
  "kernelspec": {
   "display_name": "Python 3",
   "language": "python",
   "name": "python3"
  },
  "language_info": {
   "codemirror_mode": {
    "name": "ipython",
    "version": 3
   },
   "file_extension": ".py",
   "mimetype": "text/x-python",
   "name": "python",
   "nbconvert_exporter": "python",
   "pygments_lexer": "ipython3",
   "version": "3.7.3"
  }
 },
 "nbformat": 4,
 "nbformat_minor": 1
}
